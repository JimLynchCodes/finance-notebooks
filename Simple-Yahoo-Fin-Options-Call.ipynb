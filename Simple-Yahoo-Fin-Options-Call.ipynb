{
 "cells": [
  {
   "cell_type": "markdown",
   "id": "50ebaea7-8b5e-4de3-b8bd-9032f6a8dfc7",
   "metadata": {},
   "source": [
    "# Simple Yahoo Fin Options Call\n",
    "\n",
    "More or less copied from this youtube video: https://www.youtube.com/watch?v=Lj8QHPg2Rwg\n",
    "\n",
    "View the output below in Github.\n",
    "\n",
    "Or run 'jupyter notebook' to open it locally and hit the play button to run!"
   ]
  },
  {
   "cell_type": "code",
   "execution_count": 1,
   "id": "58c0c48d-fbf4-44aa-96e4-bac7a8b2b92d",
   "metadata": {},
   "outputs": [
    {
     "name": "stdout",
     "output_type": "stream",
     "text": [
      "Requirement already satisfied: yahoo_fin in /usr/local/lib/python3.11/site-packages (0.8.9.1)\n",
      "Requirement already satisfied: requests-html in /usr/local/lib/python3.11/site-packages (from yahoo_fin) (0.10.0)\n",
      "Requirement already satisfied: feedparser in /usr/local/lib/python3.11/site-packages (from yahoo_fin) (6.0.11)\n",
      "Requirement already satisfied: requests in /usr/local/lib/python3.11/site-packages (from yahoo_fin) (2.31.0)\n",
      "Requirement already satisfied: pandas in /usr/local/lib/python3.11/site-packages (from yahoo_fin) (2.2.1)\n",
      "Requirement already satisfied: sgmllib3k in /usr/local/lib/python3.11/site-packages (from feedparser->yahoo_fin) (1.0.0)\n",
      "Requirement already satisfied: numpy<2,>=1.23.2 in /usr/local/lib/python3.11/site-packages (from pandas->yahoo_fin) (1.26.4)\n",
      "Requirement already satisfied: python-dateutil>=2.8.2 in /usr/local/lib/python3.11/site-packages (from pandas->yahoo_fin) (2.8.2)\n",
      "Requirement already satisfied: pytz>=2020.1 in /usr/local/lib/python3.11/site-packages (from pandas->yahoo_fin) (2023.3.post1)\n",
      "Requirement already satisfied: tzdata>=2022.7 in /usr/local/lib/python3.11/site-packages (from pandas->yahoo_fin) (2024.1)\n",
      "Requirement already satisfied: charset-normalizer<4,>=2 in /usr/local/lib/python3.11/site-packages (from requests->yahoo_fin) (3.3.2)\n",
      "Requirement already satisfied: idna<4,>=2.5 in /usr/local/lib/python3.11/site-packages (from requests->yahoo_fin) (3.6)\n",
      "Requirement already satisfied: urllib3<3,>=1.21.1 in /usr/local/lib/python3.11/site-packages (from requests->yahoo_fin) (1.26.18)\n",
      "Requirement already satisfied: certifi>=2017.4.17 in /usr/local/lib/python3.11/site-packages (from requests->yahoo_fin) (2023.7.22)\n",
      "Requirement already satisfied: pyquery in /usr/local/lib/python3.11/site-packages (from requests-html->yahoo_fin) (2.0.0)\n",
      "Requirement already satisfied: fake-useragent in /usr/local/lib/python3.11/site-packages (from requests-html->yahoo_fin) (1.4.0)\n",
      "Requirement already satisfied: parse in /usr/local/lib/python3.11/site-packages (from requests-html->yahoo_fin) (1.20.1)\n",
      "Requirement already satisfied: bs4 in /usr/local/lib/python3.11/site-packages (from requests-html->yahoo_fin) (0.0.2)\n",
      "Requirement already satisfied: w3lib in /usr/local/lib/python3.11/site-packages (from requests-html->yahoo_fin) (2.1.2)\n",
      "Requirement already satisfied: pyppeteer>=0.0.14 in /usr/local/lib/python3.11/site-packages (from requests-html->yahoo_fin) (2.0.0)\n",
      "Requirement already satisfied: appdirs<2.0.0,>=1.4.3 in /usr/local/lib/python3.11/site-packages (from pyppeteer>=0.0.14->requests-html->yahoo_fin) (1.4.4)\n",
      "Requirement already satisfied: importlib-metadata>=1.4 in /usr/local/lib/python3.11/site-packages (from pyppeteer>=0.0.14->requests-html->yahoo_fin) (7.0.1)\n",
      "Requirement already satisfied: pyee<12.0.0,>=11.0.0 in /usr/local/lib/python3.11/site-packages (from pyppeteer>=0.0.14->requests-html->yahoo_fin) (11.1.0)\n",
      "Requirement already satisfied: tqdm<5.0.0,>=4.42.1 in /usr/local/lib/python3.11/site-packages (from pyppeteer>=0.0.14->requests-html->yahoo_fin) (4.66.2)\n",
      "Requirement already satisfied: websockets<11.0,>=10.0 in /usr/local/lib/python3.11/site-packages (from pyppeteer>=0.0.14->requests-html->yahoo_fin) (10.4)\n",
      "Requirement already satisfied: six>=1.5 in /usr/local/lib/python3.11/site-packages (from python-dateutil>=2.8.2->pandas->yahoo_fin) (1.16.0)\n",
      "Requirement already satisfied: beautifulsoup4 in /usr/local/lib/python3.11/site-packages (from bs4->requests-html->yahoo_fin) (4.12.3)\n",
      "Requirement already satisfied: lxml>=2.1 in /usr/local/lib/python3.11/site-packages (from pyquery->requests-html->yahoo_fin) (5.1.0)\n",
      "Requirement already satisfied: cssselect>=1.2.0 in /usr/local/lib/python3.11/site-packages (from pyquery->requests-html->yahoo_fin) (1.2.0)\n",
      "Requirement already satisfied: zipp>=0.5 in /usr/local/lib/python3.11/site-packages (from importlib-metadata>=1.4->pyppeteer>=0.0.14->requests-html->yahoo_fin) (3.17.0)\n",
      "Requirement already satisfied: typing-extensions in /usr/local/lib/python3.11/site-packages (from pyee<12.0.0,>=11.0.0->pyppeteer>=0.0.14->requests-html->yahoo_fin) (4.8.0)\n",
      "Requirement already satisfied: soupsieve>1.2 in /usr/local/lib/python3.11/site-packages (from beautifulsoup4->bs4->requests-html->yahoo_fin) (2.5)\n",
      "\n",
      "\u001b[1m[\u001b[0m\u001b[34;49mnotice\u001b[0m\u001b[1;39;49m]\u001b[0m\u001b[39;49m A new release of pip is available: \u001b[0m\u001b[31;49m23.2.1\u001b[0m\u001b[39;49m -> \u001b[0m\u001b[32;49m24.0\u001b[0m\n",
      "\u001b[1m[\u001b[0m\u001b[34;49mnotice\u001b[0m\u001b[1;39;49m]\u001b[0m\u001b[39;49m To update, run: \u001b[0m\u001b[32;49m/usr/local/opt/python@3.11/bin/python3.11 -m pip install --upgrade pip\u001b[0m\n"
     ]
    }
   ],
   "source": [
    "!pip install yahoo_fin"
   ]
  },
  {
   "cell_type": "code",
   "execution_count": 27,
   "id": "66e0d38c-ea59-47d5-9b41-47a560d586d2",
   "metadata": {},
   "outputs": [
    {
     "name": "stdout",
     "output_type": "stream",
     "text": [
      "\n",
      "All expiration dates for SPY:\n",
      "\n",
      " ['March 6, 2024', 'March 7, 2024', 'March 8, 2024', 'March 11, 2024', 'March 12, 2024', 'March 13, 2024', 'March 14, 2024', 'March 15, 2024', 'March 18, 2024', 'March 22, 2024', 'March 28, 2024', 'April 5, 2024', 'April 12, 2024', 'April 19, 2024', 'April 30, 2024', 'May 17, 2024', 'May 31, 2024', 'June 21, 2024', 'June 28, 2024', 'July 19, 2024', 'July 31, 2024', 'August 16, 2024', 'August 30, 2024', 'September 20, 2024', 'September 30, 2024', 'December 20, 2024', 'December 31, 2024', 'January 17, 2025', 'March 21, 2025', 'June 20, 2025', 'December 19, 2025', 'January 16, 2026', 'December 18, 2026']\n"
     ]
    },
    {
     "name": "stderr",
     "output_type": "stream",
     "text": [
      "/usr/local/lib/python3.11/site-packages/yahoo_fin/options.py:42: FutureWarning: Passing literal html to 'read_html' is deprecated and will be removed in a future version. To read from a literal string, wrap it in a 'StringIO' object.\n",
      "  tables = pd.read_html(requests.get(site, headers=headers).text)\n"
     ]
    },
    {
     "name": "stdout",
     "output_type": "stream",
     "text": [
      "\n",
      "Call contracts for closest expiration:\n",
      "\n",
      "          Contract Name         Last Trade Date  Strike  Last Price    Bid  \\\n",
      "0   SPY240306C00425000   2024-03-04 1:39PM EST   425.0       84.66  82.46   \n",
      "1   SPY240306C00430000  2024-02-27 12:22PM EST   430.0       79.66  77.46   \n",
      "2   SPY240306C00434000   2024-02-26 3:27PM EST   434.0       73.58  73.45   \n",
      "3   SPY240306C00436000   2024-03-05 2:36PM EST   436.0       70.56  71.45   \n",
      "4   SPY240306C00438000   2024-03-04 9:55AM EST   438.0       74.69  69.45   \n",
      "..                 ...                     ...     ...         ...    ...   \n",
      "81  SPY240306C00535000  2024-03-05 10:53AM EST   535.0        0.01   0.00   \n",
      "82  SPY240306C00540000   2024-03-04 9:49AM EST   540.0        0.01   0.00   \n",
      "83  SPY240306C00545000  2024-03-04 10:43AM EST   545.0        0.01   0.00   \n",
      "84  SPY240306C00550000   2024-03-04 2:41PM EST   550.0        0.01   0.00   \n",
      "85  SPY240306C00555000   2024-02-27 9:30AM EST   555.0        0.01   0.00   \n",
      "\n",
      "      Ask  Change % Change Volume  Open Interest Implied Volatility  \n",
      "0   82.93   -3.14   -3.58%      1              7            180.08%  \n",
      "1   77.93    3.47   +4.55%      1             75            170.02%  \n",
      "2   73.92    0.00        -      4              2            161.33%  \n",
      "3   71.92   -0.96   -1.34%      2              1            157.42%  \n",
      "4   69.92    0.00        -      3              0            153.42%  \n",
      "..    ...     ...      ...    ...            ...                ...  \n",
      "81   0.01    0.00        -      1           1084             37.50%  \n",
      "82   0.01    0.00        -      1           1143             42.97%  \n",
      "83   0.01    0.00        -      1            239             49.22%  \n",
      "84   0.00    0.00        -      6           1642             25.00%  \n",
      "85   0.01    0.00        -      -              1             56.25%  \n",
      "\n",
      "[86 rows x 11 columns]\n"
     ]
    },
    {
     "name": "stderr",
     "output_type": "stream",
     "text": [
      "/usr/local/lib/python3.11/site-packages/yahoo_fin/options.py:42: FutureWarning: Passing literal html to 'read_html' is deprecated and will be removed in a future version. To read from a literal string, wrap it in a 'StringIO' object.\n",
      "  tables = pd.read_html(requests.get(site, headers=headers).text)\n"
     ]
    }
   ],
   "source": [
    "from yahoo_fin import options as op\n",
    "\n",
    "#input ticker\n",
    "ticker = 'SPY'\n",
    "\n",
    "# get expiration dates\n",
    "expirationDates = op.get_expiration_dates(ticker)\n",
    "\n",
    "print(\"\\nAll expiration dates for SPY:\\n\\n\", expirationDates)\n",
    "\n",
    "# call and put option data\n",
    "callData = op.get_calls(ticker, date = expirationDates[0])\n",
    "putData = op.get_puts(ticker, date = expirationDates[0])\n",
    "\n",
    "# chain data (doesn't seem to work?) \n",
    "# chainData = op.get_option_chain(ticker, date = expirationDates[0])\n",
    "\n",
    "print(\"\\nCall contracts for closest expiration:\\n\\n\", callData)"
   ]
  }
 ],
 "metadata": {
  "kernelspec": {
   "display_name": "Python 3 (ipykernel)",
   "language": "python",
   "name": "python3"
  },
  "language_info": {
   "codemirror_mode": {
    "name": "ipython",
    "version": 3
   },
   "file_extension": ".py",
   "mimetype": "text/x-python",
   "name": "python",
   "nbconvert_exporter": "python",
   "pygments_lexer": "ipython3",
   "version": "3.11.5"
  }
 },
 "nbformat": 4,
 "nbformat_minor": 5
}

{
 "cells": [
  {
   "cell_type": "markdown",
   "id": "50ebaea7-8b5e-4de3-b8bd-9032f6a8dfc7",
   "metadata": {},
   "source": [
    "# Simple Yahoo Fin Options Call Checkboxes\n",
    "\n",
    "Shows some checkboxes for the call expiration cycle dates.\n",
    "\n",
    "Displays the first expiration cycle call options data: strike, volume, open interest.\n"
   ]
  },
  {
   "cell_type": "code",
   "execution_count": 1,
   "id": "58c0c48d-fbf4-44aa-96e4-bac7a8b2b92d",
   "metadata": {},
   "outputs": [
    {
     "name": "stdout",
     "output_type": "stream",
     "text": [
      "Collecting yahoo_fin\n",
      "  Downloading yahoo_fin-0.8.9.1-py3-none-any.whl.metadata (699 bytes)\n",
      "Collecting requests-html (from yahoo_fin)\n",
      "  Downloading requests_html-0.10.0-py3-none-any.whl.metadata (15 kB)\n",
      "Collecting feedparser (from yahoo_fin)\n",
      "  Downloading feedparser-6.0.11-py3-none-any.whl.metadata (2.4 kB)\n",
      "Collecting requests (from yahoo_fin)\n",
      "  Downloading requests-2.31.0-py3-none-any.whl.metadata (4.6 kB)\n",
      "Collecting pandas (from yahoo_fin)\n",
      "  Downloading pandas-2.2.1-cp312-cp312-macosx_11_0_arm64.whl.metadata (19 kB)\n",
      "Collecting sgmllib3k (from feedparser->yahoo_fin)\n",
      "  Downloading sgmllib3k-1.0.0.tar.gz (5.8 kB)\n",
      "  Installing build dependencies ... \u001b[?25ldone\n",
      "\u001b[?25h  Getting requirements to build wheel ... \u001b[?25ldone\n",
      "\u001b[?25h  Installing backend dependencies ... \u001b[?25ldone\n",
      "\u001b[?25h  Preparing metadata (pyproject.toml) ... \u001b[?25ldone\n",
      "\u001b[?25hCollecting numpy<2,>=1.26.0 (from pandas->yahoo_fin)\n",
      "  Downloading numpy-1.26.4-cp312-cp312-macosx_11_0_arm64.whl.metadata (61 kB)\n",
      "\u001b[2K     \u001b[90m━━━━━━━━━━━━━━━━━━━━━━━━━━━━━━━━━━━━━━━━\u001b[0m \u001b[32m61.1/61.1 kB\u001b[0m \u001b[31m1.9 MB/s\u001b[0m eta \u001b[36m0:00:00\u001b[0m\n",
      "\u001b[?25hCollecting python-dateutil>=2.8.2 (from pandas->yahoo_fin)\n",
      "  Downloading python_dateutil-2.9.0.post0-py2.py3-none-any.whl.metadata (8.4 kB)\n",
      "Collecting pytz>=2020.1 (from pandas->yahoo_fin)\n",
      "  Downloading pytz-2024.1-py2.py3-none-any.whl.metadata (22 kB)\n",
      "Collecting tzdata>=2022.7 (from pandas->yahoo_fin)\n",
      "  Downloading tzdata-2024.1-py2.py3-none-any.whl.metadata (1.4 kB)\n",
      "Collecting charset-normalizer<4,>=2 (from requests->yahoo_fin)\n",
      "  Downloading charset_normalizer-3.3.2-cp312-cp312-macosx_11_0_arm64.whl.metadata (33 kB)\n",
      "Collecting idna<4,>=2.5 (from requests->yahoo_fin)\n",
      "  Downloading idna-3.6-py3-none-any.whl.metadata (9.9 kB)\n",
      "Collecting urllib3<3,>=1.21.1 (from requests->yahoo_fin)\n",
      "  Downloading urllib3-2.2.1-py3-none-any.whl.metadata (6.4 kB)\n",
      "Collecting certifi>=2017.4.17 (from requests->yahoo_fin)\n",
      "  Downloading certifi-2024.2.2-py3-none-any.whl.metadata (2.2 kB)\n",
      "Collecting pyquery (from requests-html->yahoo_fin)\n",
      "  Downloading pyquery-2.0.0-py3-none-any.whl.metadata (9.0 kB)\n",
      "Collecting fake-useragent (from requests-html->yahoo_fin)\n",
      "  Downloading fake_useragent-1.5.1-py3-none-any.whl.metadata (15 kB)\n",
      "Collecting parse (from requests-html->yahoo_fin)\n",
      "  Downloading parse-1.20.1-py2.py3-none-any.whl.metadata (22 kB)\n",
      "Collecting bs4 (from requests-html->yahoo_fin)\n",
      "  Downloading bs4-0.0.2-py2.py3-none-any.whl.metadata (411 bytes)\n",
      "Collecting w3lib (from requests-html->yahoo_fin)\n",
      "  Downloading w3lib-2.1.2-py3-none-any.whl.metadata (1.1 kB)\n",
      "Collecting pyppeteer>=0.0.14 (from requests-html->yahoo_fin)\n",
      "  Downloading pyppeteer-2.0.0-py3-none-any.whl.metadata (7.1 kB)\n",
      "Collecting appdirs<2.0.0,>=1.4.3 (from pyppeteer>=0.0.14->requests-html->yahoo_fin)\n",
      "  Downloading appdirs-1.4.4-py2.py3-none-any.whl.metadata (9.0 kB)\n",
      "Collecting importlib-metadata>=1.4 (from pyppeteer>=0.0.14->requests-html->yahoo_fin)\n",
      "  Downloading importlib_metadata-7.1.0-py3-none-any.whl.metadata (4.7 kB)\n",
      "Collecting pyee<12.0.0,>=11.0.0 (from pyppeteer>=0.0.14->requests-html->yahoo_fin)\n",
      "  Downloading pyee-11.1.0-py3-none-any.whl.metadata (2.8 kB)\n",
      "Collecting tqdm<5.0.0,>=4.42.1 (from pyppeteer>=0.0.14->requests-html->yahoo_fin)\n",
      "  Downloading tqdm-4.66.2-py3-none-any.whl.metadata (57 kB)\n",
      "\u001b[2K     \u001b[90m━━━━━━━━━━━━━━━━━━━━━━━━━━━━━━━━━━━━━━━━\u001b[0m \u001b[32m57.6/57.6 kB\u001b[0m \u001b[31m4.2 MB/s\u001b[0m eta \u001b[36m0:00:00\u001b[0m\n",
      "\u001b[?25hCollecting urllib3<3,>=1.21.1 (from requests->yahoo_fin)\n",
      "  Downloading urllib3-1.26.18-py2.py3-none-any.whl.metadata (48 kB)\n",
      "\u001b[2K     \u001b[90m━━━━━━━━━━━━━━━━━━━━━━━━━━━━━━━━━━━━━━━━\u001b[0m \u001b[32m48.9/48.9 kB\u001b[0m \u001b[31m4.4 MB/s\u001b[0m eta \u001b[36m0:00:00\u001b[0m\n",
      "\u001b[?25hCollecting websockets<11.0,>=10.0 (from pyppeteer>=0.0.14->requests-html->yahoo_fin)\n",
      "  Downloading websockets-10.4.tar.gz (84 kB)\n",
      "\u001b[2K     \u001b[90m━━━━━━━━━━━━━━━━━━━━━━━━━━━━━━━━━━━━━━━━\u001b[0m \u001b[32m84.9/84.9 kB\u001b[0m \u001b[31m4.8 MB/s\u001b[0m eta \u001b[36m0:00:00\u001b[0m\n",
      "\u001b[?25h  Installing build dependencies ... \u001b[?25ldone\n",
      "\u001b[?25h  Getting requirements to build wheel ... \u001b[?25ldone\n",
      "\u001b[?25h  Installing backend dependencies ... \u001b[?25ldone\n",
      "\u001b[?25h  Preparing metadata (pyproject.toml) ... \u001b[?25ldone\n",
      "\u001b[?25hCollecting six>=1.5 (from python-dateutil>=2.8.2->pandas->yahoo_fin)\n",
      "  Downloading six-1.16.0-py2.py3-none-any.whl.metadata (1.8 kB)\n",
      "Collecting beautifulsoup4 (from bs4->requests-html->yahoo_fin)\n",
      "  Downloading beautifulsoup4-4.12.3-py3-none-any.whl.metadata (3.8 kB)\n",
      "Collecting lxml>=2.1 (from pyquery->requests-html->yahoo_fin)\n",
      "  Downloading lxml-5.1.0-cp312-cp312-macosx_11_0_arm64.whl.metadata (3.5 kB)\n",
      "Collecting cssselect>=1.2.0 (from pyquery->requests-html->yahoo_fin)\n",
      "  Downloading cssselect-1.2.0-py2.py3-none-any.whl.metadata (2.2 kB)\n",
      "Collecting zipp>=0.5 (from importlib-metadata>=1.4->pyppeteer>=0.0.14->requests-html->yahoo_fin)\n",
      "  Downloading zipp-3.18.1-py3-none-any.whl.metadata (3.5 kB)\n",
      "Collecting typing-extensions (from pyee<12.0.0,>=11.0.0->pyppeteer>=0.0.14->requests-html->yahoo_fin)\n",
      "  Downloading typing_extensions-4.10.0-py3-none-any.whl.metadata (3.0 kB)\n",
      "Collecting soupsieve>1.2 (from beautifulsoup4->bs4->requests-html->yahoo_fin)\n",
      "  Downloading soupsieve-2.5-py3-none-any.whl.metadata (4.7 kB)\n",
      "Downloading yahoo_fin-0.8.9.1-py3-none-any.whl (10 kB)\n",
      "Downloading feedparser-6.0.11-py3-none-any.whl (81 kB)\n",
      "\u001b[2K   \u001b[90m━━━━━━━━━━━━━━━━━━━━━━━━━━━━━━━━━━━━━━━━\u001b[0m \u001b[32m81.3/81.3 kB\u001b[0m \u001b[31m6.8 MB/s\u001b[0m eta \u001b[36m0:00:00\u001b[0m\n",
      "\u001b[?25hDownloading pandas-2.2.1-cp312-cp312-macosx_11_0_arm64.whl (11.3 MB)\n",
      "\u001b[2K   \u001b[90m━━━━━━━━━━━━━━━━━━━━━━━━━━━━━━━━━━━━━━━━\u001b[0m \u001b[32m11.3/11.3 MB\u001b[0m \u001b[31m52.9 MB/s\u001b[0m eta \u001b[36m0:00:00\u001b[0m00:01\u001b[0m0:01\u001b[0m\n",
      "\u001b[?25hDownloading requests-2.31.0-py3-none-any.whl (62 kB)\n",
      "\u001b[2K   \u001b[90m━━━━━━━━━━━━━━━━━━━━━━━━━━━━━━━━━━━━━━━━\u001b[0m \u001b[32m62.6/62.6 kB\u001b[0m \u001b[31m3.4 MB/s\u001b[0m eta \u001b[36m0:00:00\u001b[0m\n",
      "\u001b[?25hDownloading requests_html-0.10.0-py3-none-any.whl (13 kB)\n",
      "Downloading certifi-2024.2.2-py3-none-any.whl (163 kB)\n",
      "\u001b[2K   \u001b[90m━━━━━━━━━━━━━━━━━━━━━━━━━━━━━━━━━━━━━━━━\u001b[0m \u001b[32m163.8/163.8 kB\u001b[0m \u001b[31m10.3 MB/s\u001b[0m eta \u001b[36m0:00:00\u001b[0m\n",
      "\u001b[?25hDownloading charset_normalizer-3.3.2-cp312-cp312-macosx_11_0_arm64.whl (119 kB)\n",
      "\u001b[2K   \u001b[90m━━━━━━━━━━━━━━━━━━━━━━━━━━━━━━━━━━━━━━━━\u001b[0m \u001b[32m119.4/119.4 kB\u001b[0m \u001b[31m8.9 MB/s\u001b[0m eta \u001b[36m0:00:00\u001b[0m\n",
      "\u001b[?25hDownloading idna-3.6-py3-none-any.whl (61 kB)\n",
      "\u001b[2K   \u001b[90m━━━━━━━━━━━━━━━━━━━━━━━━━━━━━━━━━━━━━━━━\u001b[0m \u001b[32m61.6/61.6 kB\u001b[0m \u001b[31m4.1 MB/s\u001b[0m eta \u001b[36m0:00:00\u001b[0m\n",
      "\u001b[?25hDownloading numpy-1.26.4-cp312-cp312-macosx_11_0_arm64.whl (13.7 MB)\n",
      "\u001b[2K   \u001b[90m━━━━━━━━━━━━━━━━━━━━━━━━━━━━━━━━━━━━━━━━\u001b[0m \u001b[32m13.7/13.7 MB\u001b[0m \u001b[31m54.2 MB/s\u001b[0m eta \u001b[36m0:00:00\u001b[0ma \u001b[36m0:00:01\u001b[0m\n",
      "\u001b[?25hDownloading pyppeteer-2.0.0-py3-none-any.whl (82 kB)\n",
      "\u001b[2K   \u001b[90m━━━━━━━━━━━━━━━━━━━━━━━━━━━━━━━━━━━━━━━━\u001b[0m \u001b[32m82.9/82.9 kB\u001b[0m \u001b[31m6.3 MB/s\u001b[0m eta \u001b[36m0:00:00\u001b[0m\n",
      "\u001b[?25hDownloading python_dateutil-2.9.0.post0-py2.py3-none-any.whl (229 kB)\n",
      "\u001b[2K   \u001b[90m━━━━━━━━━━━━━━━━━━━━━━━━━━━━━━━━━━━━━━━━\u001b[0m \u001b[32m229.9/229.9 kB\u001b[0m \u001b[31m13.7 MB/s\u001b[0m eta \u001b[36m0:00:00\u001b[0m\n",
      "\u001b[?25hDownloading pytz-2024.1-py2.py3-none-any.whl (505 kB)\n",
      "\u001b[2K   \u001b[90m━━━━━━━━━━━━━━━━━━━━━━━━━━━━━━━━━━━━━━━━\u001b[0m \u001b[32m505.5/505.5 kB\u001b[0m \u001b[31m35.7 MB/s\u001b[0m eta \u001b[36m0:00:00\u001b[0m\n",
      "\u001b[?25hDownloading tzdata-2024.1-py2.py3-none-any.whl (345 kB)\n",
      "\u001b[2K   \u001b[90m━━━━━━━━━━━━━━━━━━━━━━━━━━━━━━━━━━━━━━━━\u001b[0m \u001b[32m345.4/345.4 kB\u001b[0m \u001b[31m20.6 MB/s\u001b[0m eta \u001b[36m0:00:00\u001b[0m\n",
      "\u001b[?25hDownloading urllib3-1.26.18-py2.py3-none-any.whl (143 kB)\n",
      "\u001b[2K   \u001b[90m━━━━━━━━━━━━━━━━━━━━━━━━━━━━━━━━━━━━━━━━\u001b[0m \u001b[32m143.8/143.8 kB\u001b[0m \u001b[31m10.9 MB/s\u001b[0m eta \u001b[36m0:00:00\u001b[0m\n",
      "\u001b[?25hDownloading bs4-0.0.2-py2.py3-none-any.whl (1.2 kB)\n",
      "Downloading fake_useragent-1.5.1-py3-none-any.whl (17 kB)\n",
      "Downloading parse-1.20.1-py2.py3-none-any.whl (20 kB)\n",
      "Downloading pyquery-2.0.0-py3-none-any.whl (22 kB)\n",
      "Downloading w3lib-2.1.2-py3-none-any.whl (21 kB)\n",
      "Downloading appdirs-1.4.4-py2.py3-none-any.whl (9.6 kB)\n",
      "Downloading cssselect-1.2.0-py2.py3-none-any.whl (18 kB)\n",
      "Downloading importlib_metadata-7.1.0-py3-none-any.whl (24 kB)\n",
      "Downloading lxml-5.1.0-cp312-cp312-macosx_11_0_arm64.whl (4.5 MB)\n",
      "\u001b[2K   \u001b[90m━━━━━━━━━━━━━━━━━━━━━━━━━━━━━━━━━━━━━━━━\u001b[0m \u001b[32m4.5/4.5 MB\u001b[0m \u001b[31m66.1 MB/s\u001b[0m eta \u001b[36m0:00:00\u001b[0ma \u001b[36m0:00:01\u001b[0m\n",
      "\u001b[?25hDownloading pyee-11.1.0-py3-none-any.whl (15 kB)\n",
      "Downloading six-1.16.0-py2.py3-none-any.whl (11 kB)\n",
      "Downloading tqdm-4.66.2-py3-none-any.whl (78 kB)\n",
      "\u001b[2K   \u001b[90m━━━━━━━━━━━━━━━━━━━━━━━━━━━━━━━━━━━━━━━━\u001b[0m \u001b[32m78.3/78.3 kB\u001b[0m \u001b[31m9.4 MB/s\u001b[0m eta \u001b[36m0:00:00\u001b[0m\n",
      "\u001b[?25hDownloading beautifulsoup4-4.12.3-py3-none-any.whl (147 kB)\n",
      "\u001b[2K   \u001b[90m━━━━━━━━━━━━━━━━━━━━━━━━━━━━━━━━━━━━━━━━\u001b[0m \u001b[32m147.9/147.9 kB\u001b[0m \u001b[31m11.4 MB/s\u001b[0m eta \u001b[36m0:00:00\u001b[0m\n",
      "\u001b[?25hDownloading soupsieve-2.5-py3-none-any.whl (36 kB)\n",
      "Downloading zipp-3.18.1-py3-none-any.whl (8.2 kB)\n",
      "Downloading typing_extensions-4.10.0-py3-none-any.whl (33 kB)\n",
      "Building wheels for collected packages: sgmllib3k, websockets\n",
      "  Building wheel for sgmllib3k (pyproject.toml) ... \u001b[?25ldone\n",
      "\u001b[?25h  Created wheel for sgmllib3k: filename=sgmllib3k-1.0.0-py3-none-any.whl size=6049 sha256=a93521ec23841b3ec361c259b6e97c61200030bf1eed79b03dfbce91034d3ee1\n",
      "  Stored in directory: /Users/jim/Library/Caches/pip/wheels/03/f5/1a/23761066dac1d0e8e683e5fdb27e12de53209d05a4a37e6246\n",
      "  Building wheel for websockets (pyproject.toml) ... \u001b[?25ldone\n",
      "\u001b[?25h  Created wheel for websockets: filename=websockets-10.4-cp312-cp312-macosx_10_9_universal2.whl size=100775 sha256=44643b0d4b11963a15473ef767343a4afa8bfc1e898eec1e68df349c48982e1d\n",
      "  Stored in directory: /Users/jim/Library/Caches/pip/wheels/80/cf/6d/5d7e4c920cb41925a178b2d2621889c520d648bab487b1d7fd\n",
      "Successfully built sgmllib3k websockets\n",
      "Installing collected packages: sgmllib3k, pytz, parse, fake-useragent, appdirs, zipp, websockets, w3lib, urllib3, tzdata, typing-extensions, tqdm, soupsieve, six, numpy, lxml, idna, feedparser, cssselect, charset-normalizer, certifi, requests, python-dateutil, pyquery, pyee, importlib-metadata, beautifulsoup4, pyppeteer, pandas, bs4, requests-html, yahoo_fin\n",
      "Successfully installed appdirs-1.4.4 beautifulsoup4-4.12.3 bs4-0.0.2 certifi-2024.2.2 charset-normalizer-3.3.2 cssselect-1.2.0 fake-useragent-1.5.1 feedparser-6.0.11 idna-3.6 importlib-metadata-7.1.0 lxml-5.1.0 numpy-1.26.4 pandas-2.2.1 parse-1.20.1 pyee-11.1.0 pyppeteer-2.0.0 pyquery-2.0.0 python-dateutil-2.9.0.post0 pytz-2024.1 requests-2.31.0 requests-html-0.10.0 sgmllib3k-1.0.0 six-1.16.0 soupsieve-2.5 tqdm-4.66.2 typing-extensions-4.10.0 tzdata-2024.1 urllib3-1.26.18 w3lib-2.1.2 websockets-10.4 yahoo_fin-0.8.9.1 zipp-3.18.1\n",
      "Collecting tabulate\n",
      "  Downloading tabulate-0.9.0-py3-none-any.whl.metadata (34 kB)\n",
      "Downloading tabulate-0.9.0-py3-none-any.whl (35 kB)\n",
      "Installing collected packages: tabulate\n",
      "Successfully installed tabulate-0.9.0\n",
      "Collecting bokeh\n",
      "  Downloading bokeh-3.4.0-py3-none-any.whl.metadata (12 kB)\n",
      "Collecting Jinja2>=2.9 (from bokeh)\n",
      "  Downloading Jinja2-3.1.3-py3-none-any.whl.metadata (3.3 kB)\n",
      "Collecting contourpy>=1.2 (from bokeh)\n",
      "  Downloading contourpy-1.2.0-cp312-cp312-macosx_11_0_arm64.whl.metadata (5.8 kB)\n",
      "Requirement already satisfied: numpy>=1.16 in ./.venv/lib/python3.12/site-packages (from bokeh) (1.26.4)\n",
      "Collecting packaging>=16.8 (from bokeh)\n",
      "  Downloading packaging-24.0-py3-none-any.whl.metadata (3.2 kB)\n",
      "Requirement already satisfied: pandas>=1.2 in ./.venv/lib/python3.12/site-packages (from bokeh) (2.2.1)\n",
      "Collecting pillow>=7.1.0 (from bokeh)\n",
      "  Downloading pillow-10.2.0-cp312-cp312-macosx_11_0_arm64.whl.metadata (9.7 kB)\n",
      "Collecting PyYAML>=3.10 (from bokeh)\n",
      "  Downloading PyYAML-6.0.1-cp312-cp312-macosx_11_0_arm64.whl.metadata (2.1 kB)\n",
      "Collecting tornado>=6.2 (from bokeh)\n",
      "  Downloading tornado-6.4-cp38-abi3-macosx_10_9_universal2.whl.metadata (2.5 kB)\n",
      "Collecting xyzservices>=2021.09.1 (from bokeh)\n",
      "  Downloading xyzservices-2023.10.1-py3-none-any.whl.metadata (4.0 kB)\n",
      "Collecting MarkupSafe>=2.0 (from Jinja2>=2.9->bokeh)\n",
      "  Downloading MarkupSafe-2.1.5-cp312-cp312-macosx_10_9_universal2.whl.metadata (3.0 kB)\n",
      "Requirement already satisfied: python-dateutil>=2.8.2 in ./.venv/lib/python3.12/site-packages (from pandas>=1.2->bokeh) (2.9.0.post0)\n",
      "Requirement already satisfied: pytz>=2020.1 in ./.venv/lib/python3.12/site-packages (from pandas>=1.2->bokeh) (2024.1)\n",
      "Requirement already satisfied: tzdata>=2022.7 in ./.venv/lib/python3.12/site-packages (from pandas>=1.2->bokeh) (2024.1)\n",
      "Requirement already satisfied: six>=1.5 in ./.venv/lib/python3.12/site-packages (from python-dateutil>=2.8.2->pandas>=1.2->bokeh) (1.16.0)\n",
      "Downloading bokeh-3.4.0-py3-none-any.whl (7.0 MB)\n",
      "\u001b[2K   \u001b[90m━━━━━━━━━━━━━━━━━━━━━━━━━━━━━━━━━━━━━━━━\u001b[0m \u001b[32m7.0/7.0 MB\u001b[0m \u001b[31m33.8 MB/s\u001b[0m eta \u001b[36m0:00:00\u001b[0ma \u001b[36m0:00:01\u001b[0m\n",
      "\u001b[?25hDownloading contourpy-1.2.0-cp312-cp312-macosx_11_0_arm64.whl (242 kB)\n",
      "\u001b[2K   \u001b[90m━━━━━━━━━━━━━━━━━━━━━━━━━━━━━━━━━━━━━━━━\u001b[0m \u001b[32m242.6/242.6 kB\u001b[0m \u001b[31m19.2 MB/s\u001b[0m eta \u001b[36m0:00:00\u001b[0m\n",
      "\u001b[?25hDownloading Jinja2-3.1.3-py3-none-any.whl (133 kB)\n",
      "\u001b[2K   \u001b[90m━━━━━━━━━━━━━━━━━━━━━━━━━━━━━━━━━━━━━━━━\u001b[0m \u001b[32m133.2/133.2 kB\u001b[0m \u001b[31m11.3 MB/s\u001b[0m eta \u001b[36m0:00:00\u001b[0m\n",
      "\u001b[?25hDownloading packaging-24.0-py3-none-any.whl (53 kB)\n",
      "\u001b[2K   \u001b[90m━━━━━━━━━━━━━━━━━━━━━━━━━━━━━━━━━━━━━━━━\u001b[0m \u001b[32m53.5/53.5 kB\u001b[0m \u001b[31m3.4 MB/s\u001b[0m eta \u001b[36m0:00:00\u001b[0m\n",
      "\u001b[?25hDownloading pillow-10.2.0-cp312-cp312-macosx_11_0_arm64.whl (3.3 MB)\n",
      "\u001b[2K   \u001b[90m━━━━━━━━━━━━━━━━━━━━━━━━━━━━━━━━━━━━━━━━\u001b[0m \u001b[32m3.3/3.3 MB\u001b[0m \u001b[31m76.7 MB/s\u001b[0m eta \u001b[36m0:00:00\u001b[0m:00:01\u001b[0m\n",
      "\u001b[?25hDownloading PyYAML-6.0.1-cp312-cp312-macosx_11_0_arm64.whl (165 kB)\n",
      "\u001b[2K   \u001b[90m━━━━━━━━━━━━━━━━━━━━━━━━━━━━━━━━━━━━━━━━\u001b[0m \u001b[32m165.6/165.6 kB\u001b[0m \u001b[31m14.1 MB/s\u001b[0m eta \u001b[36m0:00:00\u001b[0m\n",
      "\u001b[?25hDownloading tornado-6.4-cp38-abi3-macosx_10_9_universal2.whl (433 kB)\n",
      "\u001b[2K   \u001b[90m━━━━━━━━━━━━━━━━━━━━━━━━━━━━━━━━━━━━━━━━\u001b[0m \u001b[32m433.1/433.1 kB\u001b[0m \u001b[31m28.3 MB/s\u001b[0m eta \u001b[36m0:00:00\u001b[0m\n",
      "\u001b[?25hDownloading xyzservices-2023.10.1-py3-none-any.whl (56 kB)\n",
      "\u001b[2K   \u001b[90m━━━━━━━━━━━━━━━━━━━━━━━━━━━━━━━━━━━━━━━━\u001b[0m \u001b[32m56.3/56.3 kB\u001b[0m \u001b[31m4.0 MB/s\u001b[0m eta \u001b[36m0:00:00\u001b[0m\n",
      "\u001b[?25hDownloading MarkupSafe-2.1.5-cp312-cp312-macosx_10_9_universal2.whl (18 kB)\n",
      "Installing collected packages: xyzservices, tornado, PyYAML, pillow, packaging, MarkupSafe, contourpy, Jinja2, bokeh\n",
      "Successfully installed Jinja2-3.1.3 MarkupSafe-2.1.5 PyYAML-6.0.1 bokeh-3.4.0 contourpy-1.2.0 packaging-24.0 pillow-10.2.0 tornado-6.4 xyzservices-2023.10.1\n",
      "Collecting panel\n",
      "  Downloading panel-1.3.8-py2.py3-none-any.whl.metadata (24 kB)\n",
      "Collecting bokeh<3.4.0,>=3.2.0 (from panel)\n",
      "  Downloading bokeh-3.3.4-py3-none-any.whl.metadata (12 kB)\n",
      "Collecting param<3.0,>=2.0.0 (from panel)\n",
      "  Downloading param-2.1.0-py3-none-any.whl.metadata (5.9 kB)\n",
      "Collecting pyviz-comms>=2.0.0 (from panel)\n",
      "  Downloading pyviz_comms-3.0.2-py3-none-any.whl.metadata (7.7 kB)\n",
      "Requirement already satisfied: xyzservices>=2021.09.1 in ./.venv/lib/python3.12/site-packages (from panel) (2023.10.1)\n",
      "Collecting markdown (from panel)\n",
      "  Downloading Markdown-3.6-py3-none-any.whl.metadata (7.0 kB)\n",
      "Collecting markdown-it-py (from panel)\n",
      "  Downloading markdown_it_py-3.0.0-py3-none-any.whl.metadata (6.9 kB)\n",
      "Collecting linkify-it-py (from panel)\n",
      "  Downloading linkify_it_py-2.0.3-py3-none-any.whl.metadata (8.5 kB)\n",
      "Collecting mdit-py-plugins (from panel)\n",
      "  Downloading mdit_py_plugins-0.4.0-py3-none-any.whl.metadata (2.7 kB)\n",
      "Requirement already satisfied: requests in ./.venv/lib/python3.12/site-packages (from panel) (2.31.0)\n",
      "Requirement already satisfied: tqdm>=4.48.0 in ./.venv/lib/python3.12/site-packages (from panel) (4.66.2)\n",
      "Collecting bleach (from panel)\n",
      "  Downloading bleach-6.1.0-py3-none-any.whl.metadata (30 kB)\n",
      "Requirement already satisfied: typing-extensions in ./.venv/lib/python3.12/site-packages (from panel) (4.10.0)\n",
      "Requirement already satisfied: pandas>=1.2 in ./.venv/lib/python3.12/site-packages (from panel) (2.2.1)\n",
      "Requirement already satisfied: Jinja2>=2.9 in ./.venv/lib/python3.12/site-packages (from bokeh<3.4.0,>=3.2.0->panel) (3.1.3)\n",
      "Requirement already satisfied: contourpy>=1 in ./.venv/lib/python3.12/site-packages (from bokeh<3.4.0,>=3.2.0->panel) (1.2.0)\n",
      "Requirement already satisfied: numpy>=1.16 in ./.venv/lib/python3.12/site-packages (from bokeh<3.4.0,>=3.2.0->panel) (1.26.4)\n",
      "Requirement already satisfied: packaging>=16.8 in ./.venv/lib/python3.12/site-packages (from bokeh<3.4.0,>=3.2.0->panel) (24.0)\n",
      "Requirement already satisfied: pillow>=7.1.0 in ./.venv/lib/python3.12/site-packages (from bokeh<3.4.0,>=3.2.0->panel) (10.2.0)\n",
      "Requirement already satisfied: PyYAML>=3.10 in ./.venv/lib/python3.12/site-packages (from bokeh<3.4.0,>=3.2.0->panel) (6.0.1)\n",
      "Requirement already satisfied: tornado>=5.1 in ./.venv/lib/python3.12/site-packages (from bokeh<3.4.0,>=3.2.0->panel) (6.4)\n",
      "Requirement already satisfied: python-dateutil>=2.8.2 in ./.venv/lib/python3.12/site-packages (from pandas>=1.2->panel) (2.9.0.post0)\n",
      "Requirement already satisfied: pytz>=2020.1 in ./.venv/lib/python3.12/site-packages (from pandas>=1.2->panel) (2024.1)\n",
      "Requirement already satisfied: tzdata>=2022.7 in ./.venv/lib/python3.12/site-packages (from pandas>=1.2->panel) (2024.1)\n",
      "Requirement already satisfied: six>=1.9.0 in ./.venv/lib/python3.12/site-packages (from bleach->panel) (1.16.0)\n",
      "Collecting webencodings (from bleach->panel)\n",
      "  Downloading webencodings-0.5.1-py2.py3-none-any.whl.metadata (2.1 kB)\n",
      "Collecting uc-micro-py (from linkify-it-py->panel)\n",
      "  Downloading uc_micro_py-1.0.3-py3-none-any.whl.metadata (2.0 kB)\n",
      "Collecting mdurl~=0.1 (from markdown-it-py->panel)\n",
      "  Downloading mdurl-0.1.2-py3-none-any.whl.metadata (1.6 kB)\n",
      "Requirement already satisfied: charset-normalizer<4,>=2 in ./.venv/lib/python3.12/site-packages (from requests->panel) (3.3.2)\n",
      "Requirement already satisfied: idna<4,>=2.5 in ./.venv/lib/python3.12/site-packages (from requests->panel) (3.6)\n",
      "Requirement already satisfied: urllib3<3,>=1.21.1 in ./.venv/lib/python3.12/site-packages (from requests->panel) (1.26.18)\n",
      "Requirement already satisfied: certifi>=2017.4.17 in ./.venv/lib/python3.12/site-packages (from requests->panel) (2024.2.2)\n",
      "Requirement already satisfied: MarkupSafe>=2.0 in ./.venv/lib/python3.12/site-packages (from Jinja2>=2.9->bokeh<3.4.0,>=3.2.0->panel) (2.1.5)\n",
      "Downloading panel-1.3.8-py2.py3-none-any.whl (20.8 MB)\n",
      "\u001b[2K   \u001b[90m━━━━━━━━━━━━━━━━━━━━━━━━━━━━━━━━━━━━━━━━\u001b[0m \u001b[32m20.8/20.8 MB\u001b[0m \u001b[31m62.5 MB/s\u001b[0m eta \u001b[36m0:00:00\u001b[0m00:01\u001b[0m00:01\u001b[0m\n",
      "\u001b[?25hDownloading bokeh-3.3.4-py3-none-any.whl (6.8 MB)\n",
      "\u001b[2K   \u001b[90m━━━━━━━━━━━━━━━━━━━━━━━━━━━━━━━━━━━━━━━━\u001b[0m \u001b[32m6.8/6.8 MB\u001b[0m \u001b[31m40.0 MB/s\u001b[0m eta \u001b[36m0:00:00\u001b[0m00:01\u001b[0m00:01\u001b[0m\n",
      "\u001b[?25hDownloading param-2.1.0-py3-none-any.whl (116 kB)\n",
      "\u001b[2K   \u001b[90m━━━━━━━━━━━━━━━━━━━━━━━━━━━━━━━━━━━━━━━━\u001b[0m \u001b[32m116.6/116.6 kB\u001b[0m \u001b[31m11.0 MB/s\u001b[0m eta \u001b[36m0:00:00\u001b[0m\n",
      "\u001b[?25hDownloading pyviz_comms-3.0.2-py3-none-any.whl (83 kB)\n",
      "\u001b[2K   \u001b[90m━━━━━━━━━━━━━━━━━━━━━━━━━━━━━━━━━━━━━━━━\u001b[0m \u001b[32m83.2/83.2 kB\u001b[0m \u001b[31m6.2 MB/s\u001b[0m eta \u001b[36m0:00:00\u001b[0m\n",
      "\u001b[?25hDownloading bleach-6.1.0-py3-none-any.whl (162 kB)\n",
      "\u001b[2K   \u001b[90m━━━━━━━━━━━━━━━━━━━━━━━━━━━━━━━━━━━━━━━━\u001b[0m \u001b[32m162.8/162.8 kB\u001b[0m \u001b[31m13.5 MB/s\u001b[0m eta \u001b[36m0:00:00\u001b[0m\n",
      "\u001b[?25hDownloading linkify_it_py-2.0.3-py3-none-any.whl (19 kB)\n",
      "Downloading Markdown-3.6-py3-none-any.whl (105 kB)\n",
      "\u001b[2K   \u001b[90m━━━━━━━━━━━━━━━━━━━━━━━━━━━━━━━━━━━━━━━━\u001b[0m \u001b[32m105.4/105.4 kB\u001b[0m \u001b[31m9.7 MB/s\u001b[0m eta \u001b[36m0:00:00\u001b[0m\n",
      "\u001b[?25hDownloading markdown_it_py-3.0.0-py3-none-any.whl (87 kB)\n",
      "\u001b[2K   \u001b[90m━━━━━━━━━━━━━━━━━━━━━━━━━━━━━━━━━━━━━━━━\u001b[0m \u001b[32m87.5/87.5 kB\u001b[0m \u001b[31m6.0 MB/s\u001b[0m eta \u001b[36m0:00:00\u001b[0m\n",
      "\u001b[?25hDownloading mdit_py_plugins-0.4.0-py3-none-any.whl (54 kB)\n",
      "\u001b[2K   \u001b[90m━━━━━━━━━━━━━━━━━━━━━━━━━━━━━━━━━━━━━━━━\u001b[0m \u001b[32m54.1/54.1 kB\u001b[0m \u001b[31m3.9 MB/s\u001b[0m eta \u001b[36m0:00:00\u001b[0m\n",
      "\u001b[?25hDownloading mdurl-0.1.2-py3-none-any.whl (10.0 kB)\n",
      "Downloading uc_micro_py-1.0.3-py3-none-any.whl (6.2 kB)\n",
      "Downloading webencodings-0.5.1-py2.py3-none-any.whl (11 kB)\n",
      "Installing collected packages: webencodings, uc-micro-py, param, mdurl, markdown, bleach, pyviz-comms, markdown-it-py, linkify-it-py, mdit-py-plugins, bokeh, panel\n",
      "  Attempting uninstall: bokeh\n",
      "    Found existing installation: bokeh 3.4.0\n",
      "    Uninstalling bokeh-3.4.0:\n",
      "      Successfully uninstalled bokeh-3.4.0\n",
      "Successfully installed bleach-6.1.0 bokeh-3.3.4 linkify-it-py-2.0.3 markdown-3.6 markdown-it-py-3.0.0 mdit-py-plugins-0.4.0 mdurl-0.1.2 panel-1.3.8 param-2.1.0 pyviz-comms-3.0.2 uc-micro-py-1.0.3 webencodings-0.5.1\n",
      "Collecting ipywidgets\n",
      "  Downloading ipywidgets-8.1.2-py3-none-any.whl.metadata (2.4 kB)\n",
      "Collecting comm>=0.1.3 (from ipywidgets)\n",
      "  Downloading comm-0.2.2-py3-none-any.whl.metadata (3.7 kB)\n",
      "Collecting ipython>=6.1.0 (from ipywidgets)\n",
      "  Downloading ipython-8.22.2-py3-none-any.whl.metadata (4.8 kB)\n",
      "Collecting traitlets>=4.3.1 (from ipywidgets)\n",
      "  Downloading traitlets-5.14.2-py3-none-any.whl.metadata (10 kB)\n",
      "Collecting widgetsnbextension~=4.0.10 (from ipywidgets)\n",
      "  Downloading widgetsnbextension-4.0.10-py3-none-any.whl.metadata (1.6 kB)\n",
      "Collecting jupyterlab-widgets~=3.0.10 (from ipywidgets)\n",
      "  Downloading jupyterlab_widgets-3.0.10-py3-none-any.whl.metadata (4.1 kB)\n",
      "Collecting decorator (from ipython>=6.1.0->ipywidgets)\n",
      "  Downloading decorator-5.1.1-py3-none-any.whl.metadata (4.0 kB)\n",
      "Collecting jedi>=0.16 (from ipython>=6.1.0->ipywidgets)\n",
      "  Downloading jedi-0.19.1-py2.py3-none-any.whl.metadata (22 kB)\n",
      "Collecting matplotlib-inline (from ipython>=6.1.0->ipywidgets)\n",
      "  Downloading matplotlib_inline-0.1.6-py3-none-any.whl.metadata (2.8 kB)\n",
      "Collecting prompt-toolkit<3.1.0,>=3.0.41 (from ipython>=6.1.0->ipywidgets)\n",
      "  Downloading prompt_toolkit-3.0.43-py3-none-any.whl.metadata (6.5 kB)\n",
      "Collecting pygments>=2.4.0 (from ipython>=6.1.0->ipywidgets)\n",
      "  Downloading pygments-2.17.2-py3-none-any.whl.metadata (2.6 kB)\n",
      "Collecting stack-data (from ipython>=6.1.0->ipywidgets)\n",
      "  Downloading stack_data-0.6.3-py3-none-any.whl.metadata (18 kB)\n",
      "Collecting pexpect>4.3 (from ipython>=6.1.0->ipywidgets)\n",
      "  Downloading pexpect-4.9.0-py2.py3-none-any.whl.metadata (2.5 kB)\n",
      "Collecting parso<0.9.0,>=0.8.3 (from jedi>=0.16->ipython>=6.1.0->ipywidgets)\n",
      "  Downloading parso-0.8.3-py2.py3-none-any.whl.metadata (7.5 kB)\n",
      "Collecting ptyprocess>=0.5 (from pexpect>4.3->ipython>=6.1.0->ipywidgets)\n",
      "  Downloading ptyprocess-0.7.0-py2.py3-none-any.whl.metadata (1.3 kB)\n",
      "Collecting wcwidth (from prompt-toolkit<3.1.0,>=3.0.41->ipython>=6.1.0->ipywidgets)\n",
      "  Downloading wcwidth-0.2.13-py2.py3-none-any.whl.metadata (14 kB)\n",
      "Collecting executing>=1.2.0 (from stack-data->ipython>=6.1.0->ipywidgets)\n",
      "  Downloading executing-2.0.1-py2.py3-none-any.whl.metadata (9.0 kB)\n",
      "Collecting asttokens>=2.1.0 (from stack-data->ipython>=6.1.0->ipywidgets)\n",
      "  Downloading asttokens-2.4.1-py2.py3-none-any.whl.metadata (5.2 kB)\n",
      "Collecting pure-eval (from stack-data->ipython>=6.1.0->ipywidgets)\n",
      "  Downloading pure_eval-0.2.2-py3-none-any.whl.metadata (6.2 kB)\n",
      "Requirement already satisfied: six>=1.12.0 in ./.venv/lib/python3.12/site-packages (from asttokens>=2.1.0->stack-data->ipython>=6.1.0->ipywidgets) (1.16.0)\n",
      "Downloading ipywidgets-8.1.2-py3-none-any.whl (139 kB)\n",
      "\u001b[2K   \u001b[90m━━━━━━━━━━━━━━━━━━━━━━━━━━━━━━━━━━━━━━━━\u001b[0m \u001b[32m139.4/139.4 kB\u001b[0m \u001b[31m3.3 MB/s\u001b[0m eta \u001b[36m0:00:00\u001b[0ma \u001b[36m0:00:01\u001b[0m\n",
      "\u001b[?25hDownloading comm-0.2.2-py3-none-any.whl (7.2 kB)\n",
      "Downloading ipython-8.22.2-py3-none-any.whl (811 kB)\n",
      "\u001b[2K   \u001b[90m━━━━━━━━━━━━━━━━━━━━━━━━━━━━━━━━━━━━━━━━\u001b[0m \u001b[32m812.0/812.0 kB\u001b[0m \u001b[31m14.0 MB/s\u001b[0m eta \u001b[36m0:00:00\u001b[0ma \u001b[36m0:00:01\u001b[0m\n",
      "\u001b[?25hDownloading jupyterlab_widgets-3.0.10-py3-none-any.whl (215 kB)\n",
      "\u001b[2K   \u001b[90m━━━━━━━━━━━━━━━━━━━━━━━━━━━━━━━━━━━━━━━━\u001b[0m \u001b[32m215.0/215.0 kB\u001b[0m \u001b[31m14.8 MB/s\u001b[0m eta \u001b[36m0:00:00\u001b[0m\n",
      "\u001b[?25hDownloading traitlets-5.14.2-py3-none-any.whl (85 kB)\n",
      "\u001b[2K   \u001b[90m━━━━━━━━━━━━━━━━━━━━━━━━━━━━━━━━━━━━━━━━\u001b[0m \u001b[32m85.4/85.4 kB\u001b[0m \u001b[31m6.3 MB/s\u001b[0m eta \u001b[36m0:00:00\u001b[0m\n",
      "\u001b[?25hDownloading widgetsnbextension-4.0.10-py3-none-any.whl (2.3 MB)\n",
      "\u001b[2K   \u001b[90m━━━━━━━━━━━━━━━━━━━━━━━━━━━━━━━━━━━━━━━━\u001b[0m \u001b[32m2.3/2.3 MB\u001b[0m \u001b[31m41.1 MB/s\u001b[0m eta \u001b[36m0:00:00\u001b[0ma \u001b[36m0:00:01\u001b[0m\n",
      "\u001b[?25hDownloading jedi-0.19.1-py2.py3-none-any.whl (1.6 MB)\n",
      "\u001b[2K   \u001b[90m━━━━━━━━━━━━━━━━━━━━━━━━━━━━━━━━━━━━━━━━\u001b[0m \u001b[32m1.6/1.6 MB\u001b[0m \u001b[31m60.2 MB/s\u001b[0m eta \u001b[36m0:00:00\u001b[0m\n",
      "\u001b[?25hDownloading pexpect-4.9.0-py2.py3-none-any.whl (63 kB)\n",
      "\u001b[2K   \u001b[90m━━━━━━━━━━━━━━━━━━━━━━━━━━━━━━━━━━━━━━━━\u001b[0m \u001b[32m63.8/63.8 kB\u001b[0m \u001b[31m3.3 MB/s\u001b[0m eta \u001b[36m0:00:00\u001b[0m\n",
      "\u001b[?25hDownloading prompt_toolkit-3.0.43-py3-none-any.whl (386 kB)\n",
      "\u001b[2K   \u001b[90m━━━━━━━━━━━━━━━━━━━━━━━━━━━━━━━━━━━━━━━━\u001b[0m \u001b[32m386.1/386.1 kB\u001b[0m \u001b[31m24.7 MB/s\u001b[0m eta \u001b[36m0:00:00\u001b[0m\n",
      "\u001b[?25hDownloading pygments-2.17.2-py3-none-any.whl (1.2 MB)\n",
      "\u001b[2K   \u001b[90m━━━━━━━━━━━━━━━━━━━━━━━━━━━━━━━━━━━━━━━━\u001b[0m \u001b[32m1.2/1.2 MB\u001b[0m \u001b[31m50.7 MB/s\u001b[0m eta \u001b[36m0:00:00\u001b[0m\n",
      "\u001b[?25hDownloading decorator-5.1.1-py3-none-any.whl (9.1 kB)\n",
      "Downloading matplotlib_inline-0.1.6-py3-none-any.whl (9.4 kB)\n",
      "Downloading stack_data-0.6.3-py3-none-any.whl (24 kB)\n",
      "Downloading asttokens-2.4.1-py2.py3-none-any.whl (27 kB)\n",
      "Downloading executing-2.0.1-py2.py3-none-any.whl (24 kB)\n",
      "Downloading parso-0.8.3-py2.py3-none-any.whl (100 kB)\n",
      "\u001b[2K   \u001b[90m━━━━━━━━━━━━━━━━━━━━━━━━━━━━━━━━━━━━━━━━\u001b[0m \u001b[32m100.8/100.8 kB\u001b[0m \u001b[31m8.2 MB/s\u001b[0m eta \u001b[36m0:00:00\u001b[0m\n",
      "\u001b[?25hDownloading ptyprocess-0.7.0-py2.py3-none-any.whl (13 kB)\n",
      "Downloading pure_eval-0.2.2-py3-none-any.whl (11 kB)\n",
      "Downloading wcwidth-0.2.13-py2.py3-none-any.whl (34 kB)\n",
      "Installing collected packages: wcwidth, pure-eval, ptyprocess, widgetsnbextension, traitlets, pygments, prompt-toolkit, pexpect, parso, jupyterlab-widgets, executing, decorator, asttokens, stack-data, matplotlib-inline, jedi, comm, ipython, ipywidgets\n",
      "Successfully installed asttokens-2.4.1 comm-0.2.2 decorator-5.1.1 executing-2.0.1 ipython-8.22.2 ipywidgets-8.1.2 jedi-0.19.1 jupyterlab-widgets-3.0.10 matplotlib-inline-0.1.6 parso-0.8.3 pexpect-4.9.0 prompt-toolkit-3.0.43 ptyprocess-0.7.0 pure-eval-0.2.2 pygments-2.17.2 stack-data-0.6.3 traitlets-5.14.2 wcwidth-0.2.13 widgetsnbextension-4.0.10\n"
     ]
    }
   ],
   "source": [
    "!pip install yahoo_fin\n",
    "!pip install tabulate\n",
    "!pip install bokeh\n",
    "!pip install panel\n",
    "!pip install ipywidgets"
   ]
  },
  {
   "cell_type": "code",
   "execution_count": 3,
   "id": "66e0d38c-ea59-47d5-9b41-47a560d586d2",
   "metadata": {},
   "outputs": [
    {
     "ename": "ModuleNotFoundError",
     "evalue": "No module named 'yahoo_fin'",
     "output_type": "error",
     "traceback": [
      "\u001b[0;31m---------------------------------------------------------------------------\u001b[0m",
      "\u001b[0;31mModuleNotFoundError\u001b[0m                       Traceback (most recent call last)",
      "Cell \u001b[0;32mIn[3], line 1\u001b[0m\n\u001b[0;32m----> 1\u001b[0m \u001b[38;5;28;01mfrom\u001b[39;00m \u001b[38;5;21;01myahoo_fin\u001b[39;00m \u001b[38;5;28;01mimport\u001b[39;00m options \u001b[38;5;28;01mas\u001b[39;00m op\n\u001b[1;32m      3\u001b[0m \u001b[38;5;66;03m#input ticker\u001b[39;00m\n\u001b[1;32m      4\u001b[0m ticker \u001b[38;5;241m=\u001b[39m \u001b[38;5;124m'\u001b[39m\u001b[38;5;124mSPY\u001b[39m\u001b[38;5;124m'\u001b[39m\n",
      "\u001b[0;31mModuleNotFoundError\u001b[0m: No module named 'yahoo_fin'"
     ]
    }
   ],
   "source": [
    "from yahoo_fin import options as op\n",
    "\n",
    "#input ticker\n",
    "ticker = 'SPY'\n",
    "\n",
    "# get expiration dates\n",
    "expirationDates = op.get_expiration_dates(ticker)\n",
    "\n",
    "\n",
    "print(\"\\nAll expiration dates for SPY:\\n\\n\", expirationDates)\n",
    "\n",
    "# call and put option data\n",
    "callData = op.get_calls(ticker, date = expirationDates[0])\n",
    "# putData = op.get_puts(ticker, date = expirationDates[0])\n",
    "\n",
    "# chain data (doesn't seem to work?) \n",
    "# chainData = op.get_option_chain(ticker, date = expirationDates[0])\n",
    "\n",
    "# print(\"\\nCall contracts for closest expiration:\\n\\n\", callData)\n",
    "\n",
    "from tabulate import tabulate   \n",
    "some_data = [['08:01', 1.00, 32], ['08:02', 1.01, 33], ['08:03', 1.02, 33]]\n",
    "headers = ['Time', 'x', 'n']\n",
    "print(tabulate(some_data, headers=headers, tablefmt='plain'))\n",
    "print('\\n\\n')\n",
    "\n",
    "import panel as pn\n",
    "pn.extension()\n",
    "\n",
    "from bokeh.plotting import figure\n",
    "\n",
    "p1 = figure(width=300, height=300, name='Scatter', margin=5)\n",
    "p1.scatter([0, 1, 2, 3, 4, 5, 6], [0, 1, 2, 3, 2, 1, 0])\n",
    "\n",
    "p2 = figure(width=300, height=300, name='Line', margin=5)\n",
    "p2.line([0, 1, 2, 3, 4, 5, 6], [0, 1, 2, 3, 2, 1, 0])\n",
    "\n",
    "# cols = [1,2,3]\n",
    "# df.drop(df.columns[cols],axis=1,inplace=True)\n",
    "\n",
    "# strippedCallData = callData.drop(callData.columns[cols], axis=1, inplace=True)\n",
    "\n",
    "# print(tabulate(callData, tablefmt='psql'))\n",
    "print(callData)\n",
    "\n",
    "# list = []\n",
    "# for expiration in expirationDates:\n",
    "#     callData = op.get_calls(ticker, date = expiration)\n",
    "\n",
    "    # table = tabulate(callData,  tablefmt='plain')\n",
    "\n",
    "    \n",
    "#     list.append((expiration, \"ok\"))\n",
    "    \n",
    "    \n",
    "# accordion = pn.Accordion(*list)\n",
    "# accordion"
   ]
  },
  {
   "cell_type": "code",
   "execution_count": null,
   "id": "d01998a3-f7cc-4a77-9624-0e863336126d",
   "metadata": {},
   "outputs": [],
   "source": []
  },
  {
   "cell_type": "code",
   "execution_count": 4,
   "id": "d51d27ee-bcda-4ee9-b840-2501cc32fb0d",
   "metadata": {},
   "outputs": [
    {
     "ename": "ModuleNotFoundError",
     "evalue": "No module named 'ipywidgets'",
     "output_type": "error",
     "traceback": [
      "\u001b[0;31m---------------------------------------------------------------------------\u001b[0m",
      "\u001b[0;31mModuleNotFoundError\u001b[0m                       Traceback (most recent call last)",
      "Cell \u001b[0;32mIn[4], line 1\u001b[0m\n\u001b[0;32m----> 1\u001b[0m \u001b[38;5;28;01mimport\u001b[39;00m \u001b[38;5;21;01mipywidgets\u001b[39;00m \u001b[38;5;28;01mas\u001b[39;00m \u001b[38;5;21;01mwidgets\u001b[39;00m\n\u001b[1;32m      3\u001b[0m data \u001b[38;5;241m=\u001b[39m {\u001b[38;5;124m\"\u001b[39m\u001b[38;5;124mkey_1\u001b[39m\u001b[38;5;124m\"\u001b[39m:\u001b[38;5;124m\"\u001b[39m\u001b[38;5;124mvalue_1\u001b[39m\u001b[38;5;124m\"\u001b[39m, \u001b[38;5;124m\"\u001b[39m\u001b[38;5;124mkey_2\u001b[39m\u001b[38;5;124m\"\u001b[39m:\u001b[38;5;124m\"\u001b[39m\u001b[38;5;124mvalue_2\u001b[39m\u001b[38;5;124m\"\u001b[39m, \u001b[38;5;124m\"\u001b[39m\u001b[38;5;124mkey_3\u001b[39m\u001b[38;5;124m\"\u001b[39m:\u001b[38;5;124m\"\u001b[39m\u001b[38;5;124mvalue_3\u001b[39m\u001b[38;5;124m\"\u001b[39m}\n\u001b[1;32m      5\u001b[0m names \u001b[38;5;241m=\u001b[39m []\n",
      "\u001b[0;31mModuleNotFoundError\u001b[0m: No module named 'ipywidgets'"
     ]
    }
   ],
   "source": [
    "import ipywidgets as widgets\n",
    "\n",
    "data = {\"key_1\":\"value_1\", \"key_2\":\"value_2\", \"key_3\":\"value_3\"}\n",
    "\n",
    "names = []\n",
    "checkbox_objects = []\n",
    "for key in data:\n",
    "    checkbox_objects.append(widgets.Checkbox(value=False, description=key))\n",
    "    names.append(key)\n",
    "\n",
    "arg_dict = {names[i]: checkbox for i, checkbox in enumerate(checkbox_objects)}\n",
    "\n",
    "ui = widgets.VBox(children=checkbox_objects)\n",
    "\n",
    "selected_data = []\n",
    "selected_label = []\n",
    "def select_data(**kwargs):\n",
    "    selected_data.clear()\n",
    "    selected_label = []\n",
    "    for key in kwargs:\n",
    "        if kwargs[key] is True:\n",
    "            selected_data.append(key)\n",
    "            selected_label.append(data[key])\n",
    "    print(selected_data, selected_label)\n",
    "\n",
    "out = widgets.interactive_output(select_data, arg_dict)\n",
    "display(ui, out)\n",
    "# How to change the tooltip text? "
   ]
  },
  {
   "cell_type": "code",
   "execution_count": 3,
   "id": "4fb2a82d-11f0-4ab6-a4b7-6e9af4571fd8",
   "metadata": {},
   "outputs": [
    {
     "data": {
      "application/vnd.jupyter.widget-view+json": {
       "model_id": "78ed67f10a9c4cd6b4ac8f20d5f7a34a",
       "version_major": 2,
       "version_minor": 0
      },
      "text/plain": [
       "IntSlider(value=0)"
      ]
     },
     "metadata": {},
     "output_type": "display_data"
    },
    {
     "data": {
      "application/vnd.jupyter.widget-view+json": {
       "model_id": "90a3708c1894429fa37e2e2c0a342c45",
       "version_major": 2,
       "version_minor": 0
      },
      "text/plain": [
       "Checkbox(value=False, description='Check me')"
      ]
     },
     "metadata": {},
     "output_type": "display_data"
    }
   ],
   "source": [
    "\n",
    "# widgets.Checkbox(\n",
    "#     value=False,\n",
    "#     description='Check me',\n",
    "#     disabled=False\n",
    "# )\n",
    "\n",
    "# ui = widgets.VBox(children=checkbox_objects)\n",
    "\n",
    "# out = widgets.interactive_output(select_data, arg_dict)\n",
    "# display(ui, out)\n",
    "import ipywidgets as widgets\n",
    "from IPython.display import display\n",
    "w = widgets.IntSlider()\n",
    "display(w)\n",
    "\n",
    "display(widgets.Checkbox(\n",
    "    value=False,\n",
    "    description='Check me',\n",
    "    disabled=False\n",
    "))\n"
   ]
  },
  {
   "cell_type": "code",
   "execution_count": 16,
   "id": "4a473f36-8802-426b-8410-b0ce24ae1403",
   "metadata": {},
   "outputs": [
    {
     "name": "stdout",
     "output_type": "stream",
     "text": [
      "\n",
      "All expiration dates for SPY:\n",
      "\n",
      " ['March 25, 2024', 'March 26, 2024', 'March 27, 2024', 'March 28, 2024', 'April 1, 2024', 'April 2, 2024', 'April 5, 2024', 'April 12, 2024', 'April 19, 2024', 'April 26, 2024', 'April 30, 2024', 'May 17, 2024', 'May 31, 2024', 'June 21, 2024', 'June 28, 2024', 'July 19, 2024', 'July 31, 2024', 'August 16, 2024', 'August 30, 2024', 'September 20, 2024', 'September 30, 2024', 'December 20, 2024', 'December 31, 2024', 'January 17, 2025', 'March 21, 2025', 'June 20, 2025', 'December 19, 2025', 'January 16, 2026', 'December 18, 2026']\n"
     ]
    },
    {
     "name": "stderr",
     "output_type": "stream",
     "text": [
      "/usr/local/lib/python3.11/site-packages/yahoo_fin/options.py:42: FutureWarning: Passing literal html to 'read_html' is deprecated and will be removed in a future version. To read from a literal string, wrap it in a 'StringIO' object.\n",
      "  tables = pd.read_html(requests.get(site, headers=headers).text)\n"
     ]
    },
    {
     "data": {
      "application/vnd.jupyter.widget-view+json": {
       "model_id": "280c0f65b2bf44fda8664661a723a1ee",
       "version_major": 2,
       "version_minor": 0
      },
      "text/plain": [
       "Checkbox(value=True, description='March 25, 2024')"
      ]
     },
     "metadata": {},
     "output_type": "display_data"
    },
    {
     "data": {
      "application/vnd.jupyter.widget-view+json": {
       "model_id": "35bf8829d0b2406f8dc4c7c5559c5b6c",
       "version_major": 2,
       "version_minor": 0
      },
      "text/plain": [
       "Checkbox(value=False, description='March 26, 2024')"
      ]
     },
     "metadata": {},
     "output_type": "display_data"
    },
    {
     "data": {
      "application/vnd.jupyter.widget-view+json": {
       "model_id": "cef02d7d556a490abaab46e97cd5e3d8",
       "version_major": 2,
       "version_minor": 0
      },
      "text/plain": [
       "Checkbox(value=False, description='March 27, 2024')"
      ]
     },
     "metadata": {},
     "output_type": "display_data"
    },
    {
     "data": {
      "application/vnd.jupyter.widget-view+json": {
       "model_id": "903196e5b39d4fa19f344aa8aa39f03d",
       "version_major": 2,
       "version_minor": 0
      },
      "text/plain": [
       "Checkbox(value=False, description='March 28, 2024')"
      ]
     },
     "metadata": {},
     "output_type": "display_data"
    },
    {
     "data": {
      "application/vnd.jupyter.widget-view+json": {
       "model_id": "198ee50824aa45338db1f8a6fadcf762",
       "version_major": 2,
       "version_minor": 0
      },
      "text/plain": [
       "Checkbox(value=False, description='April 1, 2024')"
      ]
     },
     "metadata": {},
     "output_type": "display_data"
    },
    {
     "data": {
      "application/vnd.jupyter.widget-view+json": {
       "model_id": "d8fdcda527154d16b06ff27b6d7839f9",
       "version_major": 2,
       "version_minor": 0
      },
      "text/plain": [
       "Checkbox(value=False, description='April 2, 2024')"
      ]
     },
     "metadata": {},
     "output_type": "display_data"
    },
    {
     "data": {
      "application/vnd.jupyter.widget-view+json": {
       "model_id": "9ea4e980daad43a5b6c5bea934874d26",
       "version_major": 2,
       "version_minor": 0
      },
      "text/plain": [
       "Checkbox(value=False, description='April 5, 2024')"
      ]
     },
     "metadata": {},
     "output_type": "display_data"
    },
    {
     "data": {
      "application/vnd.jupyter.widget-view+json": {
       "model_id": "e2d8afd15b2f4f2882a3b654ea628b62",
       "version_major": 2,
       "version_minor": 0
      },
      "text/plain": [
       "Checkbox(value=False, description='April 12, 2024')"
      ]
     },
     "metadata": {},
     "output_type": "display_data"
    },
    {
     "data": {
      "application/vnd.jupyter.widget-view+json": {
       "model_id": "88882c0edece465b9b6fee5a70707c3a",
       "version_major": 2,
       "version_minor": 0
      },
      "text/plain": [
       "Checkbox(value=False, description='April 19, 2024')"
      ]
     },
     "metadata": {},
     "output_type": "display_data"
    },
    {
     "data": {
      "application/vnd.jupyter.widget-view+json": {
       "model_id": "06e33e68a5344605a9a9550b0bda3170",
       "version_major": 2,
       "version_minor": 0
      },
      "text/plain": [
       "Checkbox(value=False, description='April 26, 2024')"
      ]
     },
     "metadata": {},
     "output_type": "display_data"
    },
    {
     "data": {
      "application/vnd.jupyter.widget-view+json": {
       "model_id": "acdc323ad8e14cd39c7f52381ae91f7b",
       "version_major": 2,
       "version_minor": 0
      },
      "text/plain": [
       "Checkbox(value=False, description='April 30, 2024')"
      ]
     },
     "metadata": {},
     "output_type": "display_data"
    },
    {
     "data": {
      "application/vnd.jupyter.widget-view+json": {
       "model_id": "5427b7eeff00482f959acbd4926fe9d9",
       "version_major": 2,
       "version_minor": 0
      },
      "text/plain": [
       "Checkbox(value=False, description='May 17, 2024')"
      ]
     },
     "metadata": {},
     "output_type": "display_data"
    },
    {
     "data": {
      "application/vnd.jupyter.widget-view+json": {
       "model_id": "e91c00a02be44b92a3a68de3df5b0257",
       "version_major": 2,
       "version_minor": 0
      },
      "text/plain": [
       "Checkbox(value=False, description='May 31, 2024')"
      ]
     },
     "metadata": {},
     "output_type": "display_data"
    },
    {
     "data": {
      "application/vnd.jupyter.widget-view+json": {
       "model_id": "42efa7147fb9433aaf4f329b2c7e0039",
       "version_major": 2,
       "version_minor": 0
      },
      "text/plain": [
       "Checkbox(value=False, description='June 21, 2024')"
      ]
     },
     "metadata": {},
     "output_type": "display_data"
    },
    {
     "data": {
      "application/vnd.jupyter.widget-view+json": {
       "model_id": "7873b84630d74e12b074c09f0a5df5dd",
       "version_major": 2,
       "version_minor": 0
      },
      "text/plain": [
       "Checkbox(value=False, description='June 28, 2024')"
      ]
     },
     "metadata": {},
     "output_type": "display_data"
    },
    {
     "data": {
      "application/vnd.jupyter.widget-view+json": {
       "model_id": "8377a9d724734b25800664685f3fb293",
       "version_major": 2,
       "version_minor": 0
      },
      "text/plain": [
       "Checkbox(value=False, description='July 19, 2024')"
      ]
     },
     "metadata": {},
     "output_type": "display_data"
    },
    {
     "data": {
      "application/vnd.jupyter.widget-view+json": {
       "model_id": "4d16c766e68342b2bbb7907c3f428c04",
       "version_major": 2,
       "version_minor": 0
      },
      "text/plain": [
       "Checkbox(value=False, description='July 31, 2024')"
      ]
     },
     "metadata": {},
     "output_type": "display_data"
    },
    {
     "data": {
      "application/vnd.jupyter.widget-view+json": {
       "model_id": "5962d3a8bedc4e598688c8e1de46df28",
       "version_major": 2,
       "version_minor": 0
      },
      "text/plain": [
       "Checkbox(value=False, description='August 16, 2024')"
      ]
     },
     "metadata": {},
     "output_type": "display_data"
    },
    {
     "data": {
      "application/vnd.jupyter.widget-view+json": {
       "model_id": "09517bef161548c398d199bf2cbca8df",
       "version_major": 2,
       "version_minor": 0
      },
      "text/plain": [
       "Checkbox(value=False, description='August 30, 2024')"
      ]
     },
     "metadata": {},
     "output_type": "display_data"
    },
    {
     "data": {
      "application/vnd.jupyter.widget-view+json": {
       "model_id": "5c8fd1325ddf46289b4654ea9f7f2157",
       "version_major": 2,
       "version_minor": 0
      },
      "text/plain": [
       "Checkbox(value=False, description='September 20, 2024')"
      ]
     },
     "metadata": {},
     "output_type": "display_data"
    },
    {
     "data": {
      "application/vnd.jupyter.widget-view+json": {
       "model_id": "f5ee3832d97f417194d6fa3bf4ef44a2",
       "version_major": 2,
       "version_minor": 0
      },
      "text/plain": [
       "Checkbox(value=False, description='September 30, 2024')"
      ]
     },
     "metadata": {},
     "output_type": "display_data"
    },
    {
     "data": {
      "application/vnd.jupyter.widget-view+json": {
       "model_id": "3904678ec31340beb60cd8614b5d265a",
       "version_major": 2,
       "version_minor": 0
      },
      "text/plain": [
       "Checkbox(value=False, description='December 20, 2024')"
      ]
     },
     "metadata": {},
     "output_type": "display_data"
    },
    {
     "data": {
      "application/vnd.jupyter.widget-view+json": {
       "model_id": "9df91639fdb041bdbe1d5057a7a406c3",
       "version_major": 2,
       "version_minor": 0
      },
      "text/plain": [
       "Checkbox(value=False, description='December 31, 2024')"
      ]
     },
     "metadata": {},
     "output_type": "display_data"
    },
    {
     "data": {
      "application/vnd.jupyter.widget-view+json": {
       "model_id": "549c44994dd84639821b052b3e4fc1ee",
       "version_major": 2,
       "version_minor": 0
      },
      "text/plain": [
       "Checkbox(value=False, description='January 17, 2025')"
      ]
     },
     "metadata": {},
     "output_type": "display_data"
    },
    {
     "data": {
      "application/vnd.jupyter.widget-view+json": {
       "model_id": "ba266dacbc714a76b6a9cae94aa1459d",
       "version_major": 2,
       "version_minor": 0
      },
      "text/plain": [
       "Checkbox(value=False, description='March 21, 2025')"
      ]
     },
     "metadata": {},
     "output_type": "display_data"
    },
    {
     "data": {
      "application/vnd.jupyter.widget-view+json": {
       "model_id": "70b73732fd5e4e6b9f7d32ad052363ad",
       "version_major": 2,
       "version_minor": 0
      },
      "text/plain": [
       "Checkbox(value=False, description='June 20, 2025')"
      ]
     },
     "metadata": {},
     "output_type": "display_data"
    },
    {
     "data": {
      "application/vnd.jupyter.widget-view+json": {
       "model_id": "ddc46af787b14c82b568376454169b07",
       "version_major": 2,
       "version_minor": 0
      },
      "text/plain": [
       "Checkbox(value=False, description='December 19, 2025')"
      ]
     },
     "metadata": {},
     "output_type": "display_data"
    },
    {
     "data": {
      "application/vnd.jupyter.widget-view+json": {
       "model_id": "b1137cae115148f2826cd222d77b3edb",
       "version_major": 2,
       "version_minor": 0
      },
      "text/plain": [
       "Checkbox(value=False, description='January 16, 2026')"
      ]
     },
     "metadata": {},
     "output_type": "display_data"
    },
    {
     "data": {
      "application/vnd.jupyter.widget-view+json": {
       "model_id": "3aff241720724f75b0e14b29cb2df2bc",
       "version_major": 2,
       "version_minor": 0
      },
      "text/plain": [
       "Checkbox(value=False, description='December 18, 2026')"
      ]
     },
     "metadata": {},
     "output_type": "display_data"
    }
   ],
   "source": [
    "\n",
    "# Nice Expiration Checkboxes!\n",
    "\n",
    "from yahoo_fin import options as op\n",
    "import ipywidgets as widgets\n",
    "from IPython.display import display\n",
    "\n",
    "#input ticker\n",
    "ticker = 'SPY'\n",
    "\n",
    "# get expiration dates\n",
    "expirationDates = op.get_expiration_dates(ticker)\n",
    "\n",
    "print(\"\\nAll expiration dates for SPY:\\n\\n\", expirationDates)\n",
    "\n",
    "# returns call expirations as a list\n",
    "callData = op.get_calls(ticker, date = expirationDates[0])\n",
    "\n",
    "checkboxes = []\n",
    "\n",
    "for ex in expirationDates:\n",
    "\n",
    "    isChecked = True if ex == expirationDates[0] else False\n",
    "    \n",
    "    checkbox = widgets.Checkbox(\n",
    "        value=isChecked,\n",
    "        description=ex,\n",
    "        disabled=False\n",
    "    )\n",
    "\n",
    "    checkboxes.append(checkbox)\n",
    "    \n",
    "    display(checkbox)\n"
   ]
  },
  {
   "cell_type": "code",
   "execution_count": 38,
   "id": "0978666f-634d-4c16-b84b-50bd09ddda38",
   "metadata": {},
   "outputs": [
    {
     "name": "stdout",
     "output_type": "stream",
     "text": [
      "\n",
      "All expiration dates for SPY:\n",
      "\n",
      " ['March 25, 2024', 'March 26, 2024', 'March 27, 2024', 'March 28, 2024', 'April 1, 2024', 'April 2, 2024', 'April 5, 2024', 'April 12, 2024', 'April 19, 2024', 'April 26, 2024', 'April 30, 2024', 'May 17, 2024', 'May 31, 2024', 'June 21, 2024', 'June 28, 2024', 'July 19, 2024', 'July 31, 2024', 'August 16, 2024', 'August 30, 2024', 'September 20, 2024', 'September 30, 2024', 'December 20, 2024', 'December 31, 2024', 'January 17, 2025', 'March 21, 2025', 'June 20, 2025', 'December 19, 2025', 'January 16, 2026', 'December 18, 2026']\n"
     ]
    },
    {
     "name": "stderr",
     "output_type": "stream",
     "text": [
      "/usr/local/lib/python3.11/site-packages/yahoo_fin/options.py:42: FutureWarning: Passing literal html to 'read_html' is deprecated and will be removed in a future version. To read from a literal string, wrap it in a 'StringIO' object.\n",
      "  tables = pd.read_html(requests.get(site, headers=headers).text)\n"
     ]
    },
    {
     "data": {
      "application/vnd.jupyter.widget-view+json": {
       "model_id": "4a6d6b889ccd446d89865b9291735205",
       "version_major": 2,
       "version_minor": 0
      },
      "text/plain": [
       "Checkbox(value=True, description='March 25, 2024')"
      ]
     },
     "metadata": {},
     "output_type": "display_data"
    },
    {
     "data": {
      "application/vnd.jupyter.widget-view+json": {
       "model_id": "e770e494224b4ef69a828e0e8d005028",
       "version_major": 2,
       "version_minor": 0
      },
      "text/plain": [
       "Checkbox(value=False, description='March 26, 2024')"
      ]
     },
     "metadata": {},
     "output_type": "display_data"
    },
    {
     "data": {
      "application/vnd.jupyter.widget-view+json": {
       "model_id": "3e82b124fa7947c1b996248b6c0563c7",
       "version_major": 2,
       "version_minor": 0
      },
      "text/plain": [
       "Checkbox(value=False, description='March 27, 2024')"
      ]
     },
     "metadata": {},
     "output_type": "display_data"
    },
    {
     "data": {
      "application/vnd.jupyter.widget-view+json": {
       "model_id": "a3ef2d9adc414f97be8e2d8bab07f613",
       "version_major": 2,
       "version_minor": 0
      },
      "text/plain": [
       "Checkbox(value=False, description='March 28, 2024')"
      ]
     },
     "metadata": {},
     "output_type": "display_data"
    },
    {
     "data": {
      "application/vnd.jupyter.widget-view+json": {
       "model_id": "d36d19354a7c44c189427708a677f292",
       "version_major": 2,
       "version_minor": 0
      },
      "text/plain": [
       "Checkbox(value=False, description='April 1, 2024')"
      ]
     },
     "metadata": {},
     "output_type": "display_data"
    },
    {
     "data": {
      "application/vnd.jupyter.widget-view+json": {
       "model_id": "3d6d3e309677464e84c2dbe0824c882d",
       "version_major": 2,
       "version_minor": 0
      },
      "text/plain": [
       "Checkbox(value=False, description='April 2, 2024')"
      ]
     },
     "metadata": {},
     "output_type": "display_data"
    },
    {
     "data": {
      "application/vnd.jupyter.widget-view+json": {
       "model_id": "dd838a09e5d2439cad5cb038588e8d9c",
       "version_major": 2,
       "version_minor": 0
      },
      "text/plain": [
       "Checkbox(value=False, description='April 5, 2024')"
      ]
     },
     "metadata": {},
     "output_type": "display_data"
    },
    {
     "data": {
      "application/vnd.jupyter.widget-view+json": {
       "model_id": "b94cb552f8984b0f901660588261924c",
       "version_major": 2,
       "version_minor": 0
      },
      "text/plain": [
       "Checkbox(value=False, description='April 12, 2024')"
      ]
     },
     "metadata": {},
     "output_type": "display_data"
    },
    {
     "data": {
      "application/vnd.jupyter.widget-view+json": {
       "model_id": "22fbb07f2bb348e59fd6372d9c6424c7",
       "version_major": 2,
       "version_minor": 0
      },
      "text/plain": [
       "Checkbox(value=False, description='April 19, 2024')"
      ]
     },
     "metadata": {},
     "output_type": "display_data"
    },
    {
     "data": {
      "application/vnd.jupyter.widget-view+json": {
       "model_id": "9140c36602d3403c977e965beb3efb42",
       "version_major": 2,
       "version_minor": 0
      },
      "text/plain": [
       "Checkbox(value=False, description='April 26, 2024')"
      ]
     },
     "metadata": {},
     "output_type": "display_data"
    },
    {
     "data": {
      "application/vnd.jupyter.widget-view+json": {
       "model_id": "cf155191e9fe4d519443167982100c0d",
       "version_major": 2,
       "version_minor": 0
      },
      "text/plain": [
       "Checkbox(value=False, description='April 30, 2024')"
      ]
     },
     "metadata": {},
     "output_type": "display_data"
    },
    {
     "data": {
      "application/vnd.jupyter.widget-view+json": {
       "model_id": "a60f1d22478f4c2fb34d30b3e172a73f",
       "version_major": 2,
       "version_minor": 0
      },
      "text/plain": [
       "Checkbox(value=False, description='May 17, 2024')"
      ]
     },
     "metadata": {},
     "output_type": "display_data"
    },
    {
     "data": {
      "application/vnd.jupyter.widget-view+json": {
       "model_id": "5c0d3266487142b5a1df66effcff0ef6",
       "version_major": 2,
       "version_minor": 0
      },
      "text/plain": [
       "Checkbox(value=False, description='May 31, 2024')"
      ]
     },
     "metadata": {},
     "output_type": "display_data"
    },
    {
     "data": {
      "application/vnd.jupyter.widget-view+json": {
       "model_id": "3b4045e5159d458bb04026bfb1127cb2",
       "version_major": 2,
       "version_minor": 0
      },
      "text/plain": [
       "Checkbox(value=False, description='June 21, 2024')"
      ]
     },
     "metadata": {},
     "output_type": "display_data"
    },
    {
     "data": {
      "application/vnd.jupyter.widget-view+json": {
       "model_id": "e43197c09c134828a0ea18657d7f6318",
       "version_major": 2,
       "version_minor": 0
      },
      "text/plain": [
       "Checkbox(value=False, description='June 28, 2024')"
      ]
     },
     "metadata": {},
     "output_type": "display_data"
    },
    {
     "data": {
      "application/vnd.jupyter.widget-view+json": {
       "model_id": "d96e2ebcbd5d43689a103d4839587cde",
       "version_major": 2,
       "version_minor": 0
      },
      "text/plain": [
       "Checkbox(value=False, description='July 19, 2024')"
      ]
     },
     "metadata": {},
     "output_type": "display_data"
    },
    {
     "data": {
      "application/vnd.jupyter.widget-view+json": {
       "model_id": "01b8a79aee314ac58a00c6d455839b78",
       "version_major": 2,
       "version_minor": 0
      },
      "text/plain": [
       "Checkbox(value=False, description='July 31, 2024')"
      ]
     },
     "metadata": {},
     "output_type": "display_data"
    },
    {
     "data": {
      "application/vnd.jupyter.widget-view+json": {
       "model_id": "fd317a5a811249b2b5498ee54afbe4ea",
       "version_major": 2,
       "version_minor": 0
      },
      "text/plain": [
       "Checkbox(value=False, description='August 16, 2024')"
      ]
     },
     "metadata": {},
     "output_type": "display_data"
    },
    {
     "data": {
      "application/vnd.jupyter.widget-view+json": {
       "model_id": "704fa710024d409d944173ea0bc884ff",
       "version_major": 2,
       "version_minor": 0
      },
      "text/plain": [
       "Checkbox(value=False, description='August 30, 2024')"
      ]
     },
     "metadata": {},
     "output_type": "display_data"
    },
    {
     "data": {
      "application/vnd.jupyter.widget-view+json": {
       "model_id": "9eaea7953d5f47d8b84453ce8f33ff38",
       "version_major": 2,
       "version_minor": 0
      },
      "text/plain": [
       "Checkbox(value=False, description='September 20, 2024')"
      ]
     },
     "metadata": {},
     "output_type": "display_data"
    },
    {
     "data": {
      "application/vnd.jupyter.widget-view+json": {
       "model_id": "367190e893044243b6b348e889da5537",
       "version_major": 2,
       "version_minor": 0
      },
      "text/plain": [
       "Checkbox(value=False, description='September 30, 2024')"
      ]
     },
     "metadata": {},
     "output_type": "display_data"
    },
    {
     "data": {
      "application/vnd.jupyter.widget-view+json": {
       "model_id": "913901e6ea824e52b680c173fe8a1db4",
       "version_major": 2,
       "version_minor": 0
      },
      "text/plain": [
       "Checkbox(value=False, description='December 20, 2024')"
      ]
     },
     "metadata": {},
     "output_type": "display_data"
    },
    {
     "data": {
      "application/vnd.jupyter.widget-view+json": {
       "model_id": "725694bdf63c4b92b15f879fcde4a85b",
       "version_major": 2,
       "version_minor": 0
      },
      "text/plain": [
       "Checkbox(value=False, description='December 31, 2024')"
      ]
     },
     "metadata": {},
     "output_type": "display_data"
    },
    {
     "data": {
      "application/vnd.jupyter.widget-view+json": {
       "model_id": "bf54ee1fea404dfcb6acdb5042464afa",
       "version_major": 2,
       "version_minor": 0
      },
      "text/plain": [
       "Checkbox(value=False, description='January 17, 2025')"
      ]
     },
     "metadata": {},
     "output_type": "display_data"
    },
    {
     "data": {
      "application/vnd.jupyter.widget-view+json": {
       "model_id": "bb5c4cd2c50c4b7489db2d6d5059dc60",
       "version_major": 2,
       "version_minor": 0
      },
      "text/plain": [
       "Checkbox(value=False, description='March 21, 2025')"
      ]
     },
     "metadata": {},
     "output_type": "display_data"
    },
    {
     "data": {
      "application/vnd.jupyter.widget-view+json": {
       "model_id": "b98e7ab76a4c4cab91b2b45dd56c7200",
       "version_major": 2,
       "version_minor": 0
      },
      "text/plain": [
       "Checkbox(value=False, description='June 20, 2025')"
      ]
     },
     "metadata": {},
     "output_type": "display_data"
    },
    {
     "data": {
      "application/vnd.jupyter.widget-view+json": {
       "model_id": "e6c9b6d3c11442dbb671ddfea3f834bc",
       "version_major": 2,
       "version_minor": 0
      },
      "text/plain": [
       "Checkbox(value=False, description='December 19, 2025')"
      ]
     },
     "metadata": {},
     "output_type": "display_data"
    },
    {
     "data": {
      "application/vnd.jupyter.widget-view+json": {
       "model_id": "84436605b29147278554af8a85fe2996",
       "version_major": 2,
       "version_minor": 0
      },
      "text/plain": [
       "Checkbox(value=False, description='January 16, 2026')"
      ]
     },
     "metadata": {},
     "output_type": "display_data"
    },
    {
     "data": {
      "application/vnd.jupyter.widget-view+json": {
       "model_id": "32ef907575914f22a80039ef4b68464c",
       "version_major": 2,
       "version_minor": 0
      },
      "text/plain": [
       "Checkbox(value=False, description='December 18, 2026')"
      ]
     },
     "metadata": {},
     "output_type": "display_data"
    },
    {
     "name": "stdout",
     "output_type": "stream",
     "text": [
      "\n",
      "\n",
      "\n",
      "    Strike Volume  Open Interest\n",
      "0    436.0      4              0\n",
      "1    441.0      8              8\n",
      "2    470.0      -              0\n",
      "3    472.0      -              0\n",
      "4    473.0      -              0\n",
      "..     ...    ...            ...\n",
      "66   565.0     21             21\n",
      "67   570.0      1             38\n",
      "68   575.0      -            542\n",
      "69   580.0     40             41\n",
      "70   585.0      -              5\n",
      "\n",
      "[71 rows x 3 columns]\n",
      "index:  0 strike : 436.0  volume:  4  oi:  0\n",
      "ok\n",
      "index:  1 strike : 441.0  volume:  8  oi:  8\n",
      "ok\n",
      "index:  2 strike : 470.0  volume:  -  oi:  0\n",
      "ok\n",
      "index:  3 strike : 472.0  volume:  -  oi:  0\n",
      "ok\n",
      "index:  4 strike : 473.0  volume:  -  oi:  0\n",
      "ok\n",
      "index:  5 strike : 476.0  volume:  -  oi:  0\n",
      "ok\n",
      "index:  6 strike : 478.0  volume:  1  oi:  1\n",
      "ok\n",
      "index:  7 strike : 479.0  volume:  -  oi:  0\n",
      "ok\n",
      "index:  8 strike : 480.0  volume:  -  oi:  0\n",
      "ok\n",
      "index:  9 strike : 481.0  volume:  3  oi:  6\n",
      "ok\n",
      "index:  10 strike : 484.0  volume:  1  oi:  1\n",
      "ok\n",
      "index:  11 strike : 485.0  volume:  -  oi:  0\n",
      "ok\n",
      "index:  12 strike : 486.0  volume:  1  oi:  15\n",
      "ok\n",
      "index:  13 strike : 487.0  volume:  1  oi:  1\n",
      "ok\n",
      "index:  14 strike : 488.0  volume:  113  oi:  1\n",
      "ok\n",
      "index:  15 strike : 489.0  volume:  1  oi:  1\n",
      "ok\n",
      "index:  16 strike : 490.0  volume:  1  oi:  35\n",
      "ok\n",
      "index:  17 strike : 491.0  volume:  1  oi:  7\n",
      "ok\n",
      "index:  18 strike : 492.0  volume:  -  oi:  0\n",
      "ok\n",
      "index:  19 strike : 493.0  volume:  -  oi:  0\n",
      "ok\n",
      "index:  20 strike : 494.0  volume:  4  oi:  2\n",
      "ok\n",
      "index:  21 strike : 495.0  volume:  17  oi:  75\n",
      "ok\n",
      "index:  22 strike : 496.0  volume:  2  oi:  137\n",
      "ok\n",
      "index:  23 strike : 497.0  volume:  30  oi:  12\n",
      "ok\n",
      "index:  24 strike : 498.0  volume:  380  oi:  1\n",
      "ok\n",
      "index:  25 strike : 499.0  volume:  12  oi:  90\n",
      "ok\n",
      "index:  26 strike : 500.0  volume:  58  oi:  1814\n",
      "ok\n",
      "index:  27 strike : 505.0  volume:  22  oi:  385\n",
      "ok\n",
      "index:  28 strike : 507.0  volume:  101  oi:  151\n",
      "ok\n",
      "index:  29 strike : 508.0  volume:  19  oi:  618\n",
      "ok\n",
      "index:  30 strike : 509.0  volume:  7  oi:  521\n",
      "ok\n",
      "index:  31 strike : 510.0  volume:  125  oi:  990\n",
      "ok\n",
      "index:  32 strike : 511.0  volume:  43  oi:  1270\n",
      "ok\n",
      "index:  33 strike : 512.0  volume:  66  oi:  481\n",
      "ok\n",
      "index:  34 strike : 513.0  volume:  98  oi:  709\n",
      "ok\n",
      "index:  35 strike : 514.0  volume:  234  oi:  1424\n",
      "ok\n",
      "index:  36 strike : 515.0  volume:  586  oi:  2473\n",
      "ok\n",
      "index:  37 strike : 516.0  volume:  506  oi:  1616\n",
      "ok\n",
      "index:  38 strike : 517.0  volume:  1430  oi:  2419\n",
      "ok\n",
      "index:  39 strike : 518.0  volume:  1495  oi:  2090\n",
      "ok\n",
      "index:  40 strike : 519.0  volume:  2626  oi:  1196\n",
      "ok\n",
      "index:  41 strike : 520.0  volume:  11435  oi:  2641\n",
      "ok\n",
      "index:  42 strike : 521.0  volume:  58198  oi:  2213\n",
      "ok\n",
      "index:  43 strike : 522.0  volume:  141572  oi:  3205\n",
      "ok\n",
      "index:  44 strike : 523.0  volume:  114390  oi:  13577\n",
      "ok\n",
      "index:  45 strike : 524.0  volume:  73389  oi:  5109\n",
      "ok\n",
      "index:  46 strike : 525.0  volume:  54536  oi:  5916\n",
      "ok\n",
      "index:  47 strike : 526.0  volume:  19905  oi:  2988\n",
      "ok\n",
      "index:  48 strike : 527.0  volume:  17546  oi:  3504\n",
      "ok\n",
      "index:  49 strike : 528.0  volume:  6065  oi:  14201\n",
      "ok\n",
      "index:  50 strike : 529.0  volume:  17560  oi:  2154\n",
      "ok\n",
      "index:  51 strike : 530.0  volume:  13086  oi:  6412\n",
      "ok\n",
      "index:  52 strike : 531.0  volume:  1299  oi:  2008\n",
      "ok\n",
      "index:  53 strike : 532.0  volume:  1403  oi:  1049\n",
      "ok\n",
      "index:  54 strike : 533.0  volume:  620  oi:  767\n",
      "ok\n",
      "index:  55 strike : 534.0  volume:  303  oi:  876\n",
      "ok\n",
      "index:  56 strike : 535.0  volume:  45  oi:  1007\n",
      "ok\n",
      "index:  57 strike : 536.0  volume:  60  oi:  514\n",
      "ok\n",
      "index:  58 strike : 537.0  volume:  27  oi:  321\n",
      "ok\n",
      "index:  59 strike : 538.0  volume:  17  oi:  82\n",
      "ok\n",
      "index:  60 strike : 539.0  volume:  127  oi:  107\n",
      "ok\n",
      "index:  61 strike : 540.0  volume:  258  oi:  470\n",
      "ok\n",
      "index:  62 strike : 545.0  volume:  236  oi:  566\n",
      "ok\n",
      "index:  63 strike : 550.0  volume:  51  oi:  3763\n",
      "ok\n",
      "index:  64 strike : 555.0  volume:  1  oi:  3\n",
      "ok\n",
      "index:  65 strike : 560.0  volume:  1  oi:  21\n",
      "ok\n",
      "index:  66 strike : 565.0  volume:  21  oi:  21\n",
      "ok\n",
      "index:  67 strike : 570.0  volume:  1  oi:  38\n",
      "ok\n",
      "index:  68 strike : 575.0  volume:  -  oi:  542\n",
      "ok\n",
      "index:  69 strike : 580.0  volume:  40  oi:  41\n",
      "ok\n",
      "index:  70 strike : 585.0  volume:  -  oi:  5\n",
      "ok\n"
     ]
    },
    {
     "name": "stderr",
     "output_type": "stream",
     "text": [
      "/usr/local/lib/python3.11/site-packages/yahoo_fin/options.py:42: FutureWarning: Passing literal html to 'read_html' is deprecated and will be removed in a future version. To read from a literal string, wrap it in a 'StringIO' object.\n",
      "  tables = pd.read_html(requests.get(site, headers=headers).text)\n"
     ]
    }
   ],
   "source": [
    "\n",
    "# Nice Expiration Checkboxes!\n",
    "\n",
    "from yahoo_fin import options as op\n",
    "from yahoo_fin import stock_info\n",
    "import ipywidgets as widgets\n",
    "from IPython.display import display\n",
    "\n",
    "\n",
    "def get_max_pain(ticker):\n",
    "\n",
    "    # get expiration dates\n",
    "    expirationDates = op.get_expiration_dates(ticker)\n",
    "    \n",
    "    print(\"\\nAll expiration dates for SPY:\\n\\n\", expirationDates)\n",
    "    \n",
    "    # returns call expirations as a list\n",
    "    callData = op.get_calls(ticker, date = expirationDates[0])\n",
    "    \n",
    "    checkboxes = []\n",
    "    \n",
    "    for ex in expirationDates:\n",
    "    \n",
    "        isChecked = True if ex == expirationDates[0] else False\n",
    "        \n",
    "        checkbox = widgets.Checkbox(\n",
    "            value=isChecked,\n",
    "            description=ex,\n",
    "            disabled=False\n",
    "        )\n",
    "    \n",
    "        checkboxes.append(checkbox)\n",
    "        \n",
    "        display(checkbox)\n",
    "    \n",
    "    callData = op.get_calls(ticker, date = expirationDates[0])\n",
    "    putData = op.get_puts(ticker, date = expirationDates[0])\n",
    "    \n",
    "    # print(callData)\n",
    "    \n",
    "    callData.drop('Contract Name', axis=1, inplace=True) \n",
    "    callData.drop('Bid', axis=1, inplace=True) \n",
    "    callData.drop('Ask', axis=1, inplace=True) \n",
    "    callData.drop('Last Trade Date', axis=1, inplace=True) \n",
    "    callData.drop('Change', axis=1, inplace=True) \n",
    "    callData.drop('% Change', axis=1, inplace=True) \n",
    "    callData.drop('Implied Volatility', axis=1, inplace=True) \n",
    "    callData.drop('Last Price', axis=1, inplace=True) \n",
    "    # callData.drop('Date', axis=1, inplace=True) \n",
    "    \n",
    "    print(\"\\n\\n\")\n",
    "    print(callData)\n",
    "    \n",
    "    \n",
    "    # def get_call_payoffs_for_closing_price(close_price, callData):\n",
    "    #     print('ok')\n",
    "    \n",
    "    # dictionary that maps each \"potential closing price\" to the payoff for calls and puts\n",
    "    \n",
    "    total_options_payoff_for_close = {}\n",
    "    volume_percentage = 100\n",
    "    \n",
    "    # ===============================================================\n",
    "    \n",
    "    # Get Overall Payoff From Calls For Every Potential Closing Price\n",
    "    for close_index, close_row in callData.iterrows():\n",
    "    \n",
    "        potential_close = close_row['Strike']\n",
    "    \n",
    "        total_calls_payoff_for_close = 0\n",
    "        \n",
    "        for option_index, option_row in callData.iterrows():\n",
    "    \n",
    "            option_strike = option_row['Strike']\n",
    "    \n",
    "            open_interest = option_row['Open Interest']\n",
    "            volume = option_row['Volume']\n",
    "            \n",
    "            call_payoff = (0 if (option_strike < potential_close) \n",
    "                           else (option_strike - potential_close)\n",
    "                           * open_interest\n",
    "                           * (volume * volume_percentage / 100)\n",
    "                           * 100\n",
    "                          )\n",
    "            \n",
    "            total_options_payoff_for_close[potential_close] += call_payoff\n",
    "    \n",
    "    \n",
    "    # ==============================================================\n",
    "    \n",
    "    # Get Overall Payoff From PUTS For Every Potential Closing Price\n",
    "    for close_index, close_row in putData.iterrows():\n",
    "    \n",
    "        potential_close = close_row['Strike']\n",
    "    \n",
    "        total_puts_payoff_for_close = 0\n",
    "        \n",
    "        for option_index, option_row in putData.iterrows():\n",
    "    \n",
    "            option_strike = option_row['Strike']\n",
    "    \n",
    "            open_interest = option_row['Open Interest']\n",
    "            volume = option_row['Volume']\n",
    "            \n",
    "            put_payoff = (0 if (option_strike > potential_close) \n",
    "                           else (potential_close - option_strike)\n",
    "                           * open_interest\n",
    "                           * (volume * volume_percentage / 100)\n",
    "                           * 100\n",
    "                         )\n",
    "            \n",
    "            total_options_payoff_for_close[potential_close] += put_payoff\n",
    "    \n",
    "    # ===============================================================\n",
    "    \n",
    "    # Find Max Pain from Option Payoffs\n",
    "    \n",
    "    minimum_options_payoff = Infinity\n",
    "    minimum_options_payoff_strike = 0\n",
    "    \n",
    "    # loop over dictionary of payoffs for each potential close price\n",
    "    for (close_price, options_payoff) in total_options_payoff_for_close.items():\n",
    "        if (options_payoff < minimum_options_payoff)\n",
    "            minimum_options_payoff = options_payoff\n",
    "            minimum_options_payoff_strike = close_price\n",
    "    \n",
    "    max_pain = minimum_options_payoff_strike\n",
    "    # print(\"max pain is: \" + max_pain)\n",
    "\n",
    "    return max_pain\n",
    "\n",
    "\n",
    "# ===================================================================\n",
    "\n",
    "# Loop across all tickers in list, calculating max pain and gap $ / %\n",
    "\n",
    "tickers = ['AAPL', 'NVDA', 'MSFT']\n",
    "\n",
    "pain_list = []\n",
    "\n",
    "\n",
    "for ticker in tickers\n",
    "\n",
    "    quote_table = stock_info.get_quote_table(ticker)\n",
    "    current_price = quote_table['Ask'] - quote_table['Bid']\n",
    "    \n",
    "    max_pain = get_max_pain(ticker)\n",
    "    \n",
    "    gap_$ = max_pain - current_price\n",
    "    gap_percentage = gap_$ / current_price\n",
    "    \n",
    "    dic = {}\n",
    "\n",
    "    dic.update('Ticker', ticker)\n",
    "    dic.update('Price', current_price)\n",
    "    dic.update('Max Pain', max_pain)\n",
    "    dic.update('Gap $', gap_$)\n",
    "    dic.update('Gap %', gap_percentage)\n",
    "\n",
    "    pain_list.append(dic)\n",
    "\n",
    "\n",
    "df = pd.DataFrame(pain_list)\n",
    "df.sort_values('Gap %')\n",
    "print(df)"
   ]
  }
 ],
 "metadata": {
  "kernelspec": {
   "display_name": "Python 3 (ipykernel)",
   "language": "python",
   "name": "python3"
  },
  "language_info": {
   "codemirror_mode": {
    "name": "ipython",
    "version": 3
   },
   "file_extension": ".py",
   "mimetype": "text/x-python",
   "name": "python",
   "nbconvert_exporter": "python",
   "pygments_lexer": "ipython3",
   "version": "3.12.2"
  }
 },
 "nbformat": 4,
 "nbformat_minor": 5
}
